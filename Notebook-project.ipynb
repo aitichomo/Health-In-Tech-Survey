{
  "cells": [
    {
      "cell_type": "markdown",
      "metadata": {
        "id": "ZBr4GLZR0cDW"
      },
      "source": [
        "#Project Name : Mental Health in Tech Survey\n",
        "\n",
        "#Auhtor : Mustapha Ait Ichou\n",
        "\n",
        "#Institution :  Faculty of Sciences Rabat\n",
        "\n",
        "\n",
        " * Develop a machine learning model to predict the mental health status of individuals working in the tech industry based on survey responses. This project aims to identify factors influencing mental health and provide insights for supporting mental well-being in the workplace.\n",
        "\n",
        " * The project involves machine learning models that can assist in predicting mental health conditions, analyzing mental health-related data and creating tools that help in diagnosing or monitoring mental health conditions.\n"
      ]
    },
    {
      "cell_type": "markdown",
      "metadata": {
        "id": "M3kFLfh60cDd"
      },
      "source": [
        "#### Imports"
      ]
    },
    {
      "cell_type": "code",
      "execution_count": 4,
      "metadata": {
        "id": "sUz4ghAA0cDe"
      },
      "outputs": [],
      "source": [
        "import pandas as pd\n",
        "import numpy as np\n",
        "import matplotlib.pyplot as plt\n",
        "from sklearn.preprocessing import LabelEncoder\n",
        "from sklearn.model_selection import train_test_split\n",
        "from sklearn.preprocessing import MinMaxScaler, StandardScaler\n",
        "import seaborn as sns\n",
        "\n"
      ]
    },
    {
      "cell_type": "markdown",
      "metadata": {
        "id": "I5ajYYP00cDh"
      },
      "source": [
        "#### Data Preprocessing"
      ]
    },
    {
      "cell_type": "code",
      "execution_count": 5,
      "metadata": {
        "id": "Td2ParVt0cDh"
      },
      "outputs": [],
      "source": [
        "path = 'survey.csv'\n",
        "data = pd.read_csv(path)"
      ]
    },
    {
      "cell_type": "code",
      "execution_count": 6,
      "metadata": {
        "colab": {
          "base_uri": "https://localhost:8080/",
          "height": 429
        },
        "id": "r4HcuQFG0cDi",
        "outputId": "412ebcff-35dc-4053-b05d-4ea3ca686a0c"
      },
      "outputs": [
        {
          "output_type": "execute_result",
          "data": {
            "text/plain": [
              "             Timestamp  Age  Gender         Country state self_employed  \\\n",
              "0  2014-08-27 11:29:31   37  Female   United States    IL           NaN   \n",
              "1  2014-08-27 11:29:37   44       M   United States    IN           NaN   \n",
              "2  2014-08-27 11:29:44   32    Male          Canada   NaN           NaN   \n",
              "3  2014-08-27 11:29:46   31    Male  United Kingdom   NaN           NaN   \n",
              "4  2014-08-27 11:30:22   31    Male   United States    TX           NaN   \n",
              "\n",
              "  family_history treatment work_interfere    no_employees  ...  \\\n",
              "0             No       Yes          Often            6-25  ...   \n",
              "1             No        No         Rarely  More than 1000  ...   \n",
              "2             No        No         Rarely            6-25  ...   \n",
              "3            Yes       Yes          Often          26-100  ...   \n",
              "4             No        No          Never         100-500  ...   \n",
              "\n",
              "                leave mental_health_consequence phys_health_consequence  \\\n",
              "0       Somewhat easy                        No                      No   \n",
              "1          Don't know                     Maybe                      No   \n",
              "2  Somewhat difficult                        No                      No   \n",
              "3  Somewhat difficult                       Yes                     Yes   \n",
              "4          Don't know                        No                      No   \n",
              "\n",
              "      coworkers supervisor mental_health_interview phys_health_interview  \\\n",
              "0  Some of them        Yes                      No                 Maybe   \n",
              "1            No         No                      No                    No   \n",
              "2           Yes        Yes                     Yes                   Yes   \n",
              "3  Some of them         No                   Maybe                 Maybe   \n",
              "4  Some of them        Yes                     Yes                   Yes   \n",
              "\n",
              "  mental_vs_physical obs_consequence comments  \n",
              "0                Yes              No      NaN  \n",
              "1         Don't know              No      NaN  \n",
              "2                 No              No      NaN  \n",
              "3                 No             Yes      NaN  \n",
              "4         Don't know              No      NaN  \n",
              "\n",
              "[5 rows x 27 columns]"
            ],
            "text/html": [
              "\n",
              "  <div id=\"df-87e7a084-7d7b-4b5b-a6dd-1f6595488930\" class=\"colab-df-container\">\n",
              "    <div>\n",
              "<style scoped>\n",
              "    .dataframe tbody tr th:only-of-type {\n",
              "        vertical-align: middle;\n",
              "    }\n",
              "\n",
              "    .dataframe tbody tr th {\n",
              "        vertical-align: top;\n",
              "    }\n",
              "\n",
              "    .dataframe thead th {\n",
              "        text-align: right;\n",
              "    }\n",
              "</style>\n",
              "<table border=\"1\" class=\"dataframe\">\n",
              "  <thead>\n",
              "    <tr style=\"text-align: right;\">\n",
              "      <th></th>\n",
              "      <th>Timestamp</th>\n",
              "      <th>Age</th>\n",
              "      <th>Gender</th>\n",
              "      <th>Country</th>\n",
              "      <th>state</th>\n",
              "      <th>self_employed</th>\n",
              "      <th>family_history</th>\n",
              "      <th>treatment</th>\n",
              "      <th>work_interfere</th>\n",
              "      <th>no_employees</th>\n",
              "      <th>...</th>\n",
              "      <th>leave</th>\n",
              "      <th>mental_health_consequence</th>\n",
              "      <th>phys_health_consequence</th>\n",
              "      <th>coworkers</th>\n",
              "      <th>supervisor</th>\n",
              "      <th>mental_health_interview</th>\n",
              "      <th>phys_health_interview</th>\n",
              "      <th>mental_vs_physical</th>\n",
              "      <th>obs_consequence</th>\n",
              "      <th>comments</th>\n",
              "    </tr>\n",
              "  </thead>\n",
              "  <tbody>\n",
              "    <tr>\n",
              "      <th>0</th>\n",
              "      <td>2014-08-27 11:29:31</td>\n",
              "      <td>37</td>\n",
              "      <td>Female</td>\n",
              "      <td>United States</td>\n",
              "      <td>IL</td>\n",
              "      <td>NaN</td>\n",
              "      <td>No</td>\n",
              "      <td>Yes</td>\n",
              "      <td>Often</td>\n",
              "      <td>6-25</td>\n",
              "      <td>...</td>\n",
              "      <td>Somewhat easy</td>\n",
              "      <td>No</td>\n",
              "      <td>No</td>\n",
              "      <td>Some of them</td>\n",
              "      <td>Yes</td>\n",
              "      <td>No</td>\n",
              "      <td>Maybe</td>\n",
              "      <td>Yes</td>\n",
              "      <td>No</td>\n",
              "      <td>NaN</td>\n",
              "    </tr>\n",
              "    <tr>\n",
              "      <th>1</th>\n",
              "      <td>2014-08-27 11:29:37</td>\n",
              "      <td>44</td>\n",
              "      <td>M</td>\n",
              "      <td>United States</td>\n",
              "      <td>IN</td>\n",
              "      <td>NaN</td>\n",
              "      <td>No</td>\n",
              "      <td>No</td>\n",
              "      <td>Rarely</td>\n",
              "      <td>More than 1000</td>\n",
              "      <td>...</td>\n",
              "      <td>Don't know</td>\n",
              "      <td>Maybe</td>\n",
              "      <td>No</td>\n",
              "      <td>No</td>\n",
              "      <td>No</td>\n",
              "      <td>No</td>\n",
              "      <td>No</td>\n",
              "      <td>Don't know</td>\n",
              "      <td>No</td>\n",
              "      <td>NaN</td>\n",
              "    </tr>\n",
              "    <tr>\n",
              "      <th>2</th>\n",
              "      <td>2014-08-27 11:29:44</td>\n",
              "      <td>32</td>\n",
              "      <td>Male</td>\n",
              "      <td>Canada</td>\n",
              "      <td>NaN</td>\n",
              "      <td>NaN</td>\n",
              "      <td>No</td>\n",
              "      <td>No</td>\n",
              "      <td>Rarely</td>\n",
              "      <td>6-25</td>\n",
              "      <td>...</td>\n",
              "      <td>Somewhat difficult</td>\n",
              "      <td>No</td>\n",
              "      <td>No</td>\n",
              "      <td>Yes</td>\n",
              "      <td>Yes</td>\n",
              "      <td>Yes</td>\n",
              "      <td>Yes</td>\n",
              "      <td>No</td>\n",
              "      <td>No</td>\n",
              "      <td>NaN</td>\n",
              "    </tr>\n",
              "    <tr>\n",
              "      <th>3</th>\n",
              "      <td>2014-08-27 11:29:46</td>\n",
              "      <td>31</td>\n",
              "      <td>Male</td>\n",
              "      <td>United Kingdom</td>\n",
              "      <td>NaN</td>\n",
              "      <td>NaN</td>\n",
              "      <td>Yes</td>\n",
              "      <td>Yes</td>\n",
              "      <td>Often</td>\n",
              "      <td>26-100</td>\n",
              "      <td>...</td>\n",
              "      <td>Somewhat difficult</td>\n",
              "      <td>Yes</td>\n",
              "      <td>Yes</td>\n",
              "      <td>Some of them</td>\n",
              "      <td>No</td>\n",
              "      <td>Maybe</td>\n",
              "      <td>Maybe</td>\n",
              "      <td>No</td>\n",
              "      <td>Yes</td>\n",
              "      <td>NaN</td>\n",
              "    </tr>\n",
              "    <tr>\n",
              "      <th>4</th>\n",
              "      <td>2014-08-27 11:30:22</td>\n",
              "      <td>31</td>\n",
              "      <td>Male</td>\n",
              "      <td>United States</td>\n",
              "      <td>TX</td>\n",
              "      <td>NaN</td>\n",
              "      <td>No</td>\n",
              "      <td>No</td>\n",
              "      <td>Never</td>\n",
              "      <td>100-500</td>\n",
              "      <td>...</td>\n",
              "      <td>Don't know</td>\n",
              "      <td>No</td>\n",
              "      <td>No</td>\n",
              "      <td>Some of them</td>\n",
              "      <td>Yes</td>\n",
              "      <td>Yes</td>\n",
              "      <td>Yes</td>\n",
              "      <td>Don't know</td>\n",
              "      <td>No</td>\n",
              "      <td>NaN</td>\n",
              "    </tr>\n",
              "  </tbody>\n",
              "</table>\n",
              "<p>5 rows × 27 columns</p>\n",
              "</div>\n",
              "    <div class=\"colab-df-buttons\">\n",
              "\n",
              "  <div class=\"colab-df-container\">\n",
              "    <button class=\"colab-df-convert\" onclick=\"convertToInteractive('df-87e7a084-7d7b-4b5b-a6dd-1f6595488930')\"\n",
              "            title=\"Convert this dataframe to an interactive table.\"\n",
              "            style=\"display:none;\">\n",
              "\n",
              "  <svg xmlns=\"http://www.w3.org/2000/svg\" height=\"24px\" viewBox=\"0 -960 960 960\">\n",
              "    <path d=\"M120-120v-720h720v720H120Zm60-500h600v-160H180v160Zm220 220h160v-160H400v160Zm0 220h160v-160H400v160ZM180-400h160v-160H180v160Zm440 0h160v-160H620v160ZM180-180h160v-160H180v160Zm440 0h160v-160H620v160Z\"/>\n",
              "  </svg>\n",
              "    </button>\n",
              "\n",
              "  <style>\n",
              "    .colab-df-container {\n",
              "      display:flex;\n",
              "      gap: 12px;\n",
              "    }\n",
              "\n",
              "    .colab-df-convert {\n",
              "      background-color: #E8F0FE;\n",
              "      border: none;\n",
              "      border-radius: 50%;\n",
              "      cursor: pointer;\n",
              "      display: none;\n",
              "      fill: #1967D2;\n",
              "      height: 32px;\n",
              "      padding: 0 0 0 0;\n",
              "      width: 32px;\n",
              "    }\n",
              "\n",
              "    .colab-df-convert:hover {\n",
              "      background-color: #E2EBFA;\n",
              "      box-shadow: 0px 1px 2px rgba(60, 64, 67, 0.3), 0px 1px 3px 1px rgba(60, 64, 67, 0.15);\n",
              "      fill: #174EA6;\n",
              "    }\n",
              "\n",
              "    .colab-df-buttons div {\n",
              "      margin-bottom: 4px;\n",
              "    }\n",
              "\n",
              "    [theme=dark] .colab-df-convert {\n",
              "      background-color: #3B4455;\n",
              "      fill: #D2E3FC;\n",
              "    }\n",
              "\n",
              "    [theme=dark] .colab-df-convert:hover {\n",
              "      background-color: #434B5C;\n",
              "      box-shadow: 0px 1px 3px 1px rgba(0, 0, 0, 0.15);\n",
              "      filter: drop-shadow(0px 1px 2px rgba(0, 0, 0, 0.3));\n",
              "      fill: #FFFFFF;\n",
              "    }\n",
              "  </style>\n",
              "\n",
              "    <script>\n",
              "      const buttonEl =\n",
              "        document.querySelector('#df-87e7a084-7d7b-4b5b-a6dd-1f6595488930 button.colab-df-convert');\n",
              "      buttonEl.style.display =\n",
              "        google.colab.kernel.accessAllowed ? 'block' : 'none';\n",
              "\n",
              "      async function convertToInteractive(key) {\n",
              "        const element = document.querySelector('#df-87e7a084-7d7b-4b5b-a6dd-1f6595488930');\n",
              "        const dataTable =\n",
              "          await google.colab.kernel.invokeFunction('convertToInteractive',\n",
              "                                                    [key], {});\n",
              "        if (!dataTable) return;\n",
              "\n",
              "        const docLinkHtml = 'Like what you see? Visit the ' +\n",
              "          '<a target=\"_blank\" href=https://colab.research.google.com/notebooks/data_table.ipynb>data table notebook</a>'\n",
              "          + ' to learn more about interactive tables.';\n",
              "        element.innerHTML = '';\n",
              "        dataTable['output_type'] = 'display_data';\n",
              "        await google.colab.output.renderOutput(dataTable, element);\n",
              "        const docLink = document.createElement('div');\n",
              "        docLink.innerHTML = docLinkHtml;\n",
              "        element.appendChild(docLink);\n",
              "      }\n",
              "    </script>\n",
              "  </div>\n",
              "\n",
              "\n",
              "<div id=\"df-23c32283-9d7b-4313-883f-59a69ed610b2\">\n",
              "  <button class=\"colab-df-quickchart\" onclick=\"quickchart('df-23c32283-9d7b-4313-883f-59a69ed610b2')\"\n",
              "            title=\"Suggest charts\"\n",
              "            style=\"display:none;\">\n",
              "\n",
              "<svg xmlns=\"http://www.w3.org/2000/svg\" height=\"24px\"viewBox=\"0 0 24 24\"\n",
              "     width=\"24px\">\n",
              "    <g>\n",
              "        <path d=\"M19 3H5c-1.1 0-2 .9-2 2v14c0 1.1.9 2 2 2h14c1.1 0 2-.9 2-2V5c0-1.1-.9-2-2-2zM9 17H7v-7h2v7zm4 0h-2V7h2v10zm4 0h-2v-4h2v4z\"/>\n",
              "    </g>\n",
              "</svg>\n",
              "  </button>\n",
              "\n",
              "<style>\n",
              "  .colab-df-quickchart {\n",
              "      --bg-color: #E8F0FE;\n",
              "      --fill-color: #1967D2;\n",
              "      --hover-bg-color: #E2EBFA;\n",
              "      --hover-fill-color: #174EA6;\n",
              "      --disabled-fill-color: #AAA;\n",
              "      --disabled-bg-color: #DDD;\n",
              "  }\n",
              "\n",
              "  [theme=dark] .colab-df-quickchart {\n",
              "      --bg-color: #3B4455;\n",
              "      --fill-color: #D2E3FC;\n",
              "      --hover-bg-color: #434B5C;\n",
              "      --hover-fill-color: #FFFFFF;\n",
              "      --disabled-bg-color: #3B4455;\n",
              "      --disabled-fill-color: #666;\n",
              "  }\n",
              "\n",
              "  .colab-df-quickchart {\n",
              "    background-color: var(--bg-color);\n",
              "    border: none;\n",
              "    border-radius: 50%;\n",
              "    cursor: pointer;\n",
              "    display: none;\n",
              "    fill: var(--fill-color);\n",
              "    height: 32px;\n",
              "    padding: 0;\n",
              "    width: 32px;\n",
              "  }\n",
              "\n",
              "  .colab-df-quickchart:hover {\n",
              "    background-color: var(--hover-bg-color);\n",
              "    box-shadow: 0 1px 2px rgba(60, 64, 67, 0.3), 0 1px 3px 1px rgba(60, 64, 67, 0.15);\n",
              "    fill: var(--button-hover-fill-color);\n",
              "  }\n",
              "\n",
              "  .colab-df-quickchart-complete:disabled,\n",
              "  .colab-df-quickchart-complete:disabled:hover {\n",
              "    background-color: var(--disabled-bg-color);\n",
              "    fill: var(--disabled-fill-color);\n",
              "    box-shadow: none;\n",
              "  }\n",
              "\n",
              "  .colab-df-spinner {\n",
              "    border: 2px solid var(--fill-color);\n",
              "    border-color: transparent;\n",
              "    border-bottom-color: var(--fill-color);\n",
              "    animation:\n",
              "      spin 1s steps(1) infinite;\n",
              "  }\n",
              "\n",
              "  @keyframes spin {\n",
              "    0% {\n",
              "      border-color: transparent;\n",
              "      border-bottom-color: var(--fill-color);\n",
              "      border-left-color: var(--fill-color);\n",
              "    }\n",
              "    20% {\n",
              "      border-color: transparent;\n",
              "      border-left-color: var(--fill-color);\n",
              "      border-top-color: var(--fill-color);\n",
              "    }\n",
              "    30% {\n",
              "      border-color: transparent;\n",
              "      border-left-color: var(--fill-color);\n",
              "      border-top-color: var(--fill-color);\n",
              "      border-right-color: var(--fill-color);\n",
              "    }\n",
              "    40% {\n",
              "      border-color: transparent;\n",
              "      border-right-color: var(--fill-color);\n",
              "      border-top-color: var(--fill-color);\n",
              "    }\n",
              "    60% {\n",
              "      border-color: transparent;\n",
              "      border-right-color: var(--fill-color);\n",
              "    }\n",
              "    80% {\n",
              "      border-color: transparent;\n",
              "      border-right-color: var(--fill-color);\n",
              "      border-bottom-color: var(--fill-color);\n",
              "    }\n",
              "    90% {\n",
              "      border-color: transparent;\n",
              "      border-bottom-color: var(--fill-color);\n",
              "    }\n",
              "  }\n",
              "</style>\n",
              "\n",
              "  <script>\n",
              "    async function quickchart(key) {\n",
              "      const quickchartButtonEl =\n",
              "        document.querySelector('#' + key + ' button');\n",
              "      quickchartButtonEl.disabled = true;  // To prevent multiple clicks.\n",
              "      quickchartButtonEl.classList.add('colab-df-spinner');\n",
              "      try {\n",
              "        const charts = await google.colab.kernel.invokeFunction(\n",
              "            'suggestCharts', [key], {});\n",
              "      } catch (error) {\n",
              "        console.error('Error during call to suggestCharts:', error);\n",
              "      }\n",
              "      quickchartButtonEl.classList.remove('colab-df-spinner');\n",
              "      quickchartButtonEl.classList.add('colab-df-quickchart-complete');\n",
              "    }\n",
              "    (() => {\n",
              "      let quickchartButtonEl =\n",
              "        document.querySelector('#df-23c32283-9d7b-4313-883f-59a69ed610b2 button');\n",
              "      quickchartButtonEl.style.display =\n",
              "        google.colab.kernel.accessAllowed ? 'block' : 'none';\n",
              "    })();\n",
              "  </script>\n",
              "</div>\n",
              "\n",
              "    </div>\n",
              "  </div>\n"
            ]
          },
          "metadata": {},
          "execution_count": 6
        }
      ],
      "source": [
        "data.head()"
      ]
    },
    {
      "cell_type": "code",
      "execution_count": 7,
      "metadata": {
        "colab": {
          "base_uri": "https://localhost:8080/",
          "height": 300
        },
        "id": "SOcjajoU0cDl",
        "outputId": "910c1af6-35ae-4795-fe8f-4b61c491bdb3"
      },
      "outputs": [
        {
          "output_type": "execute_result",
          "data": {
            "text/plain": [
              "                Age\n",
              "count  1.259000e+03\n",
              "mean   7.942815e+07\n",
              "std    2.818299e+09\n",
              "min   -1.726000e+03\n",
              "25%    2.700000e+01\n",
              "50%    3.100000e+01\n",
              "75%    3.600000e+01\n",
              "max    1.000000e+11"
            ],
            "text/html": [
              "\n",
              "  <div id=\"df-d4d0fe07-d8ef-49b2-afce-4fa7a541c0a7\" class=\"colab-df-container\">\n",
              "    <div>\n",
              "<style scoped>\n",
              "    .dataframe tbody tr th:only-of-type {\n",
              "        vertical-align: middle;\n",
              "    }\n",
              "\n",
              "    .dataframe tbody tr th {\n",
              "        vertical-align: top;\n",
              "    }\n",
              "\n",
              "    .dataframe thead th {\n",
              "        text-align: right;\n",
              "    }\n",
              "</style>\n",
              "<table border=\"1\" class=\"dataframe\">\n",
              "  <thead>\n",
              "    <tr style=\"text-align: right;\">\n",
              "      <th></th>\n",
              "      <th>Age</th>\n",
              "    </tr>\n",
              "  </thead>\n",
              "  <tbody>\n",
              "    <tr>\n",
              "      <th>count</th>\n",
              "      <td>1.259000e+03</td>\n",
              "    </tr>\n",
              "    <tr>\n",
              "      <th>mean</th>\n",
              "      <td>7.942815e+07</td>\n",
              "    </tr>\n",
              "    <tr>\n",
              "      <th>std</th>\n",
              "      <td>2.818299e+09</td>\n",
              "    </tr>\n",
              "    <tr>\n",
              "      <th>min</th>\n",
              "      <td>-1.726000e+03</td>\n",
              "    </tr>\n",
              "    <tr>\n",
              "      <th>25%</th>\n",
              "      <td>2.700000e+01</td>\n",
              "    </tr>\n",
              "    <tr>\n",
              "      <th>50%</th>\n",
              "      <td>3.100000e+01</td>\n",
              "    </tr>\n",
              "    <tr>\n",
              "      <th>75%</th>\n",
              "      <td>3.600000e+01</td>\n",
              "    </tr>\n",
              "    <tr>\n",
              "      <th>max</th>\n",
              "      <td>1.000000e+11</td>\n",
              "    </tr>\n",
              "  </tbody>\n",
              "</table>\n",
              "</div>\n",
              "    <div class=\"colab-df-buttons\">\n",
              "\n",
              "  <div class=\"colab-df-container\">\n",
              "    <button class=\"colab-df-convert\" onclick=\"convertToInteractive('df-d4d0fe07-d8ef-49b2-afce-4fa7a541c0a7')\"\n",
              "            title=\"Convert this dataframe to an interactive table.\"\n",
              "            style=\"display:none;\">\n",
              "\n",
              "  <svg xmlns=\"http://www.w3.org/2000/svg\" height=\"24px\" viewBox=\"0 -960 960 960\">\n",
              "    <path d=\"M120-120v-720h720v720H120Zm60-500h600v-160H180v160Zm220 220h160v-160H400v160Zm0 220h160v-160H400v160ZM180-400h160v-160H180v160Zm440 0h160v-160H620v160ZM180-180h160v-160H180v160Zm440 0h160v-160H620v160Z\"/>\n",
              "  </svg>\n",
              "    </button>\n",
              "\n",
              "  <style>\n",
              "    .colab-df-container {\n",
              "      display:flex;\n",
              "      gap: 12px;\n",
              "    }\n",
              "\n",
              "    .colab-df-convert {\n",
              "      background-color: #E8F0FE;\n",
              "      border: none;\n",
              "      border-radius: 50%;\n",
              "      cursor: pointer;\n",
              "      display: none;\n",
              "      fill: #1967D2;\n",
              "      height: 32px;\n",
              "      padding: 0 0 0 0;\n",
              "      width: 32px;\n",
              "    }\n",
              "\n",
              "    .colab-df-convert:hover {\n",
              "      background-color: #E2EBFA;\n",
              "      box-shadow: 0px 1px 2px rgba(60, 64, 67, 0.3), 0px 1px 3px 1px rgba(60, 64, 67, 0.15);\n",
              "      fill: #174EA6;\n",
              "    }\n",
              "\n",
              "    .colab-df-buttons div {\n",
              "      margin-bottom: 4px;\n",
              "    }\n",
              "\n",
              "    [theme=dark] .colab-df-convert {\n",
              "      background-color: #3B4455;\n",
              "      fill: #D2E3FC;\n",
              "    }\n",
              "\n",
              "    [theme=dark] .colab-df-convert:hover {\n",
              "      background-color: #434B5C;\n",
              "      box-shadow: 0px 1px 3px 1px rgba(0, 0, 0, 0.15);\n",
              "      filter: drop-shadow(0px 1px 2px rgba(0, 0, 0, 0.3));\n",
              "      fill: #FFFFFF;\n",
              "    }\n",
              "  </style>\n",
              "\n",
              "    <script>\n",
              "      const buttonEl =\n",
              "        document.querySelector('#df-d4d0fe07-d8ef-49b2-afce-4fa7a541c0a7 button.colab-df-convert');\n",
              "      buttonEl.style.display =\n",
              "        google.colab.kernel.accessAllowed ? 'block' : 'none';\n",
              "\n",
              "      async function convertToInteractive(key) {\n",
              "        const element = document.querySelector('#df-d4d0fe07-d8ef-49b2-afce-4fa7a541c0a7');\n",
              "        const dataTable =\n",
              "          await google.colab.kernel.invokeFunction('convertToInteractive',\n",
              "                                                    [key], {});\n",
              "        if (!dataTable) return;\n",
              "\n",
              "        const docLinkHtml = 'Like what you see? Visit the ' +\n",
              "          '<a target=\"_blank\" href=https://colab.research.google.com/notebooks/data_table.ipynb>data table notebook</a>'\n",
              "          + ' to learn more about interactive tables.';\n",
              "        element.innerHTML = '';\n",
              "        dataTable['output_type'] = 'display_data';\n",
              "        await google.colab.output.renderOutput(dataTable, element);\n",
              "        const docLink = document.createElement('div');\n",
              "        docLink.innerHTML = docLinkHtml;\n",
              "        element.appendChild(docLink);\n",
              "      }\n",
              "    </script>\n",
              "  </div>\n",
              "\n",
              "\n",
              "<div id=\"df-447bd154-bd71-477b-8072-68e72f49ce1c\">\n",
              "  <button class=\"colab-df-quickchart\" onclick=\"quickchart('df-447bd154-bd71-477b-8072-68e72f49ce1c')\"\n",
              "            title=\"Suggest charts\"\n",
              "            style=\"display:none;\">\n",
              "\n",
              "<svg xmlns=\"http://www.w3.org/2000/svg\" height=\"24px\"viewBox=\"0 0 24 24\"\n",
              "     width=\"24px\">\n",
              "    <g>\n",
              "        <path d=\"M19 3H5c-1.1 0-2 .9-2 2v14c0 1.1.9 2 2 2h14c1.1 0 2-.9 2-2V5c0-1.1-.9-2-2-2zM9 17H7v-7h2v7zm4 0h-2V7h2v10zm4 0h-2v-4h2v4z\"/>\n",
              "    </g>\n",
              "</svg>\n",
              "  </button>\n",
              "\n",
              "<style>\n",
              "  .colab-df-quickchart {\n",
              "      --bg-color: #E8F0FE;\n",
              "      --fill-color: #1967D2;\n",
              "      --hover-bg-color: #E2EBFA;\n",
              "      --hover-fill-color: #174EA6;\n",
              "      --disabled-fill-color: #AAA;\n",
              "      --disabled-bg-color: #DDD;\n",
              "  }\n",
              "\n",
              "  [theme=dark] .colab-df-quickchart {\n",
              "      --bg-color: #3B4455;\n",
              "      --fill-color: #D2E3FC;\n",
              "      --hover-bg-color: #434B5C;\n",
              "      --hover-fill-color: #FFFFFF;\n",
              "      --disabled-bg-color: #3B4455;\n",
              "      --disabled-fill-color: #666;\n",
              "  }\n",
              "\n",
              "  .colab-df-quickchart {\n",
              "    background-color: var(--bg-color);\n",
              "    border: none;\n",
              "    border-radius: 50%;\n",
              "    cursor: pointer;\n",
              "    display: none;\n",
              "    fill: var(--fill-color);\n",
              "    height: 32px;\n",
              "    padding: 0;\n",
              "    width: 32px;\n",
              "  }\n",
              "\n",
              "  .colab-df-quickchart:hover {\n",
              "    background-color: var(--hover-bg-color);\n",
              "    box-shadow: 0 1px 2px rgba(60, 64, 67, 0.3), 0 1px 3px 1px rgba(60, 64, 67, 0.15);\n",
              "    fill: var(--button-hover-fill-color);\n",
              "  }\n",
              "\n",
              "  .colab-df-quickchart-complete:disabled,\n",
              "  .colab-df-quickchart-complete:disabled:hover {\n",
              "    background-color: var(--disabled-bg-color);\n",
              "    fill: var(--disabled-fill-color);\n",
              "    box-shadow: none;\n",
              "  }\n",
              "\n",
              "  .colab-df-spinner {\n",
              "    border: 2px solid var(--fill-color);\n",
              "    border-color: transparent;\n",
              "    border-bottom-color: var(--fill-color);\n",
              "    animation:\n",
              "      spin 1s steps(1) infinite;\n",
              "  }\n",
              "\n",
              "  @keyframes spin {\n",
              "    0% {\n",
              "      border-color: transparent;\n",
              "      border-bottom-color: var(--fill-color);\n",
              "      border-left-color: var(--fill-color);\n",
              "    }\n",
              "    20% {\n",
              "      border-color: transparent;\n",
              "      border-left-color: var(--fill-color);\n",
              "      border-top-color: var(--fill-color);\n",
              "    }\n",
              "    30% {\n",
              "      border-color: transparent;\n",
              "      border-left-color: var(--fill-color);\n",
              "      border-top-color: var(--fill-color);\n",
              "      border-right-color: var(--fill-color);\n",
              "    }\n",
              "    40% {\n",
              "      border-color: transparent;\n",
              "      border-right-color: var(--fill-color);\n",
              "      border-top-color: var(--fill-color);\n",
              "    }\n",
              "    60% {\n",
              "      border-color: transparent;\n",
              "      border-right-color: var(--fill-color);\n",
              "    }\n",
              "    80% {\n",
              "      border-color: transparent;\n",
              "      border-right-color: var(--fill-color);\n",
              "      border-bottom-color: var(--fill-color);\n",
              "    }\n",
              "    90% {\n",
              "      border-color: transparent;\n",
              "      border-bottom-color: var(--fill-color);\n",
              "    }\n",
              "  }\n",
              "</style>\n",
              "\n",
              "  <script>\n",
              "    async function quickchart(key) {\n",
              "      const quickchartButtonEl =\n",
              "        document.querySelector('#' + key + ' button');\n",
              "      quickchartButtonEl.disabled = true;  // To prevent multiple clicks.\n",
              "      quickchartButtonEl.classList.add('colab-df-spinner');\n",
              "      try {\n",
              "        const charts = await google.colab.kernel.invokeFunction(\n",
              "            'suggestCharts', [key], {});\n",
              "      } catch (error) {\n",
              "        console.error('Error during call to suggestCharts:', error);\n",
              "      }\n",
              "      quickchartButtonEl.classList.remove('colab-df-spinner');\n",
              "      quickchartButtonEl.classList.add('colab-df-quickchart-complete');\n",
              "    }\n",
              "    (() => {\n",
              "      let quickchartButtonEl =\n",
              "        document.querySelector('#df-447bd154-bd71-477b-8072-68e72f49ce1c button');\n",
              "      quickchartButtonEl.style.display =\n",
              "        google.colab.kernel.accessAllowed ? 'block' : 'none';\n",
              "    })();\n",
              "  </script>\n",
              "</div>\n",
              "\n",
              "    </div>\n",
              "  </div>\n"
            ]
          },
          "metadata": {},
          "execution_count": 7
        }
      ],
      "source": [
        "data.describe()"
      ]
    },
    {
      "cell_type": "code",
      "execution_count": 8,
      "metadata": {
        "colab": {
          "base_uri": "https://localhost:8080/"
        },
        "id": "8IIGPhjs0cDm",
        "outputId": "4d114ee7-7bd6-4001-de8f-d6ceb3b577fd"
      },
      "outputs": [
        {
          "output_type": "stream",
          "name": "stdout",
          "text": [
            "<class 'pandas.core.frame.DataFrame'>\n",
            "RangeIndex: 1259 entries, 0 to 1258\n",
            "Data columns (total 27 columns):\n",
            " #   Column                     Non-Null Count  Dtype \n",
            "---  ------                     --------------  ----- \n",
            " 0   Timestamp                  1259 non-null   object\n",
            " 1   Age                        1259 non-null   int64 \n",
            " 2   Gender                     1259 non-null   object\n",
            " 3   Country                    1259 non-null   object\n",
            " 4   state                      744 non-null    object\n",
            " 5   self_employed              1241 non-null   object\n",
            " 6   family_history             1259 non-null   object\n",
            " 7   treatment                  1259 non-null   object\n",
            " 8   work_interfere             995 non-null    object\n",
            " 9   no_employees               1259 non-null   object\n",
            " 10  remote_work                1259 non-null   object\n",
            " 11  tech_company               1259 non-null   object\n",
            " 12  benefits                   1259 non-null   object\n",
            " 13  care_options               1259 non-null   object\n",
            " 14  wellness_program           1259 non-null   object\n",
            " 15  seek_help                  1259 non-null   object\n",
            " 16  anonymity                  1259 non-null   object\n",
            " 17  leave                      1259 non-null   object\n",
            " 18  mental_health_consequence  1259 non-null   object\n",
            " 19  phys_health_consequence    1259 non-null   object\n",
            " 20  coworkers                  1259 non-null   object\n",
            " 21  supervisor                 1259 non-null   object\n",
            " 22  mental_health_interview    1259 non-null   object\n",
            " 23  phys_health_interview      1259 non-null   object\n",
            " 24  mental_vs_physical         1259 non-null   object\n",
            " 25  obs_consequence            1259 non-null   object\n",
            " 26  comments                   164 non-null    object\n",
            "dtypes: int64(1), object(26)\n",
            "memory usage: 265.7+ KB\n"
          ]
        }
      ],
      "source": [
        "data.info()"
      ]
    },
    {
      "cell_type": "code",
      "execution_count": 9,
      "metadata": {
        "colab": {
          "base_uri": "https://localhost:8080/"
        },
        "id": "7nSww8IX0cDn",
        "outputId": "2d9f61b8-7435-44fb-bc62-a6855862a2b3"
      },
      "outputs": [
        {
          "output_type": "execute_result",
          "data": {
            "text/plain": [
              "Timestamp                       0\n",
              "Age                             0\n",
              "Gender                          0\n",
              "Country                         0\n",
              "state                         515\n",
              "self_employed                  18\n",
              "family_history                  0\n",
              "treatment                       0\n",
              "work_interfere                264\n",
              "no_employees                    0\n",
              "remote_work                     0\n",
              "tech_company                    0\n",
              "benefits                        0\n",
              "care_options                    0\n",
              "wellness_program                0\n",
              "seek_help                       0\n",
              "anonymity                       0\n",
              "leave                           0\n",
              "mental_health_consequence       0\n",
              "phys_health_consequence         0\n",
              "coworkers                       0\n",
              "supervisor                      0\n",
              "mental_health_interview         0\n",
              "phys_health_interview           0\n",
              "mental_vs_physical              0\n",
              "obs_consequence                 0\n",
              "comments                     1095\n",
              "dtype: int64"
            ]
          },
          "metadata": {},
          "execution_count": 9
        }
      ],
      "source": [
        "data.isna().sum()"
      ]
    },
    {
      "cell_type": "code",
      "execution_count": 10,
      "metadata": {
        "id": "T2iq1b3v0cDo"
      },
      "outputs": [],
      "source": [
        "data.drop(['comments', 'state', 'Timestamp'],  axis=1, inplace=True)"
      ]
    },
    {
      "cell_type": "code",
      "execution_count": 11,
      "metadata": {
        "colab": {
          "base_uri": "https://localhost:8080/"
        },
        "id": "02CigxtJ0cDp",
        "outputId": "6be1f576-9ed1-488a-8382-3601bced16dc"
      },
      "outputs": [
        {
          "output_type": "execute_result",
          "data": {
            "text/plain": [
              "Age                            0\n",
              "Gender                         0\n",
              "Country                        0\n",
              "self_employed                 18\n",
              "family_history                 0\n",
              "treatment                      0\n",
              "work_interfere               264\n",
              "no_employees                   0\n",
              "remote_work                    0\n",
              "tech_company                   0\n",
              "benefits                       0\n",
              "care_options                   0\n",
              "wellness_program               0\n",
              "seek_help                      0\n",
              "anonymity                      0\n",
              "leave                          0\n",
              "mental_health_consequence      0\n",
              "phys_health_consequence        0\n",
              "coworkers                      0\n",
              "supervisor                     0\n",
              "mental_health_interview        0\n",
              "phys_health_interview          0\n",
              "mental_vs_physical             0\n",
              "obs_consequence                0\n",
              "dtype: int64"
            ]
          },
          "metadata": {},
          "execution_count": 11
        }
      ],
      "source": [
        "data.isna().sum()"
      ]
    },
    {
      "cell_type": "code",
      "execution_count": 12,
      "metadata": {
        "colab": {
          "base_uri": "https://localhost:8080/"
        },
        "id": "cRilqYh20cDq",
        "outputId": "fd4ff5d6-b71a-45f1-d4d9-a3c734d5c6e8"
      },
      "outputs": [
        {
          "output_type": "stream",
          "name": "stdout",
          "text": [
            "Age                           0.00\n",
            "Gender                        0.00\n",
            "Country                       0.00\n",
            "self_employed                 1.43\n",
            "family_history                0.00\n",
            "treatment                     0.00\n",
            "work_interfere               20.97\n",
            "no_employees                  0.00\n",
            "remote_work                   0.00\n",
            "tech_company                  0.00\n",
            "benefits                      0.00\n",
            "care_options                  0.00\n",
            "wellness_program              0.00\n",
            "seek_help                     0.00\n",
            "anonymity                     0.00\n",
            "leave                         0.00\n",
            "mental_health_consequence     0.00\n",
            "phys_health_consequence       0.00\n",
            "coworkers                     0.00\n",
            "supervisor                    0.00\n",
            "mental_health_interview       0.00\n",
            "phys_health_interview         0.00\n",
            "mental_vs_physical            0.00\n",
            "obs_consequence               0.00\n",
            "dtype: float64\n"
          ]
        }
      ],
      "source": [
        "# Assuming your DataFrame is called 'Data'\n",
        "missing_percentages = (data.isna().mean() * 100).round(2)\n",
        "\n",
        "print(missing_percentages)"
      ]
    },
    {
      "cell_type": "markdown",
      "metadata": {
        "id": "AGHH-DS50cDr"
      },
      "source": [
        "##### Cleaning the NaN values"
      ]
    },
    {
      "cell_type": "code",
      "execution_count": 13,
      "metadata": {
        "id": "nR1TK5xK0cDr"
      },
      "outputs": [],
      "source": [
        "df_clean = data"
      ]
    },
    {
      "cell_type": "code",
      "execution_count": 14,
      "metadata": {
        "colab": {
          "base_uri": "https://localhost:8080/"
        },
        "id": "MNr3p8Hy0cDu",
        "outputId": "2a9413d3-8ff8-45b8-8ee8-3c65f8cd26f2"
      },
      "outputs": [
        {
          "output_type": "execute_result",
          "data": {
            "text/plain": [
              "Age                            0\n",
              "Gender                         0\n",
              "Country                        0\n",
              "self_employed                 18\n",
              "family_history                 0\n",
              "treatment                      0\n",
              "work_interfere               264\n",
              "no_employees                   0\n",
              "remote_work                    0\n",
              "tech_company                   0\n",
              "benefits                       0\n",
              "care_options                   0\n",
              "wellness_program               0\n",
              "seek_help                      0\n",
              "anonymity                      0\n",
              "leave                          0\n",
              "mental_health_consequence      0\n",
              "phys_health_consequence        0\n",
              "coworkers                      0\n",
              "supervisor                     0\n",
              "mental_health_interview        0\n",
              "phys_health_interview          0\n",
              "mental_vs_physical             0\n",
              "obs_consequence                0\n",
              "dtype: int64"
            ]
          },
          "metadata": {},
          "execution_count": 14
        }
      ],
      "source": [
        "df_clean.isna().sum()"
      ]
    },
    {
      "cell_type": "markdown",
      "metadata": {
        "id": "_kwEbfsw0cDv"
      },
      "source": [
        "Now, our data does not contain any missing values !!"
      ]
    },
    {
      "cell_type": "markdown",
      "metadata": {
        "id": "IiJy7jZt0cDw"
      },
      "source": [
        "##### Encoding data"
      ]
    },
    {
      "cell_type": "code",
      "execution_count": 15,
      "metadata": {
        "colab": {
          "base_uri": "https://localhost:8080/"
        },
        "id": "93ZHbCbi0cDw",
        "outputId": "55b9360d-93e3-4f07-bc49-f26c3f4de162"
      },
      "outputs": [
        {
          "output_type": "stream",
          "name": "stdout",
          "text": [
            "Column \"Age\" has 53 unique values: [         37          44          32          31          33          35\n",
            "          39          42          23          29          36          27\n",
            "          46          41          34          30          40          38\n",
            "          50          24          18          28          26          22\n",
            "          19          25          45          21         -29          43\n",
            "          56          60          54         329          55 99999999999\n",
            "          48          20          57          58          47          62\n",
            "          51          65          49       -1726           5          53\n",
            "          61           8          11          -1          72]\n",
            "Column \"Gender\" has 49 unique values: ['Female' 'M' 'Male' 'male' 'female' 'm' 'Male-ish' 'maile' 'Trans-female'\n",
            " 'Cis Female' 'F' 'something kinda male?' 'Cis Male' 'Woman' 'f' 'Mal'\n",
            " 'Male (CIS)' 'queer/she/they' 'non-binary' 'Femake' 'woman' 'Make' 'Nah'\n",
            " 'All' 'Enby' 'fluid' 'Genderqueer' 'Female ' 'Androgyne' 'Agender'\n",
            " 'cis-female/femme' 'Guy (-ish) ^_^' 'male leaning androgynous' 'Male '\n",
            " 'Man' 'Trans woman' 'msle' 'Neuter' 'Female (trans)' 'queer'\n",
            " 'Female (cis)' 'Mail' 'cis male' 'A little about you' 'Malr' 'p' 'femail'\n",
            " 'Cis Man' 'ostensibly male, unsure what that really means']\n",
            "Column \"Country\" has 48 unique values: ['United States' 'Canada' 'United Kingdom' 'Bulgaria' 'France' 'Portugal'\n",
            " 'Netherlands' 'Switzerland' 'Poland' 'Australia' 'Germany' 'Russia'\n",
            " 'Mexico' 'Brazil' 'Slovenia' 'Costa Rica' 'Austria' 'Ireland' 'India'\n",
            " 'South Africa' 'Italy' 'Sweden' 'Colombia' 'Latvia' 'Romania' 'Belgium'\n",
            " 'New Zealand' 'Zimbabwe' 'Spain' 'Finland' 'Uruguay' 'Israel'\n",
            " 'Bosnia and Herzegovina' 'Hungary' 'Singapore' 'Japan' 'Nigeria'\n",
            " 'Croatia' 'Norway' 'Thailand' 'Denmark' 'Bahamas, The' 'Greece' 'Moldova'\n",
            " 'Georgia' 'China' 'Czech Republic' 'Philippines']\n",
            "Column \"self_employed\" has 3 unique values: [nan 'Yes' 'No']\n",
            "Column \"family_history\" has 2 unique values: ['No' 'Yes']\n",
            "Column \"treatment\" has 2 unique values: ['Yes' 'No']\n",
            "Column \"work_interfere\" has 5 unique values: ['Often' 'Rarely' 'Never' 'Sometimes' nan]\n",
            "Column \"no_employees\" has 6 unique values: ['6-25' 'More than 1000' '26-100' '100-500' '1-5' '500-1000']\n",
            "Column \"remote_work\" has 2 unique values: ['No' 'Yes']\n",
            "Column \"tech_company\" has 2 unique values: ['Yes' 'No']\n",
            "Column \"benefits\" has 3 unique values: ['Yes' \"Don't know\" 'No']\n",
            "Column \"care_options\" has 3 unique values: ['Not sure' 'No' 'Yes']\n",
            "Column \"wellness_program\" has 3 unique values: ['No' \"Don't know\" 'Yes']\n",
            "Column \"seek_help\" has 3 unique values: ['Yes' \"Don't know\" 'No']\n",
            "Column \"anonymity\" has 3 unique values: ['Yes' \"Don't know\" 'No']\n",
            "Column \"leave\" has 5 unique values: ['Somewhat easy' \"Don't know\" 'Somewhat difficult' 'Very difficult'\n",
            " 'Very easy']\n",
            "Column \"mental_health_consequence\" has 3 unique values: ['No' 'Maybe' 'Yes']\n",
            "Column \"phys_health_consequence\" has 3 unique values: ['No' 'Yes' 'Maybe']\n",
            "Column \"coworkers\" has 3 unique values: ['Some of them' 'No' 'Yes']\n",
            "Column \"supervisor\" has 3 unique values: ['Yes' 'No' 'Some of them']\n",
            "Column \"mental_health_interview\" has 3 unique values: ['No' 'Yes' 'Maybe']\n",
            "Column \"phys_health_interview\" has 3 unique values: ['Maybe' 'No' 'Yes']\n",
            "Column \"mental_vs_physical\" has 3 unique values: ['Yes' \"Don't know\" 'No']\n",
            "Column \"obs_consequence\" has 2 unique values: ['No' 'Yes']\n"
          ]
        }
      ],
      "source": [
        "# Iterate through each column in the DataFrame\n",
        "for column in df_clean.columns:\n",
        "    unique_values = df_clean[column].unique()\n",
        "    print(f'Column \"{column}\" has {len(unique_values)} unique values: {unique_values}')"
      ]
    },
    {
      "cell_type": "code",
      "execution_count": 16,
      "metadata": {
        "id": "zmGj9tz00cDx"
      },
      "outputs": [],
      "source": [
        "# LabelEncoder from scikit-learn\n",
        "le = LabelEncoder()"
      ]
    },
    {
      "cell_type": "markdown",
      "metadata": {
        "id": "QE22XWNM0cDx"
      },
      "source": [
        "0- Work interference"
      ]
    },
    {
      "cell_type": "code",
      "execution_count": 17,
      "metadata": {
        "colab": {
          "base_uri": "https://localhost:8080/"
        },
        "id": "UhYsBfF-0cDy",
        "outputId": "20260ca2-ff77-4561-dca3-f6cef3ec24b9"
      },
      "outputs": [
        {
          "output_type": "execute_result",
          "data": {
            "text/plain": [
              "array(['Often', 'Rarely', 'Never', 'Sometimes', nan], dtype=object)"
            ]
          },
          "metadata": {},
          "execution_count": 17
        }
      ],
      "source": [
        "df_clean['work_interfere'].unique()"
      ]
    },
    {
      "cell_type": "code",
      "execution_count": 18,
      "metadata": {
        "colab": {
          "base_uri": "https://localhost:8080/"
        },
        "id": "zWQ6GV_a0cDy",
        "outputId": "ce1c4e77-801d-4447-c69f-d716a08e45fe"
      },
      "outputs": [
        {
          "output_type": "execute_result",
          "data": {
            "text/plain": [
              "array([1, 2, 0, 3, nan], dtype=object)"
            ]
          },
          "metadata": {},
          "execution_count": 18
        }
      ],
      "source": [
        "\n",
        "# Encode non-NaN values in the 'work_interfere' column\n",
        "df_clean.loc[df_clean['work_interfere'].notnull(), 'work_interfere'] = le.fit_transform(df_clean.loc[df_clean['work_interfere'].notnull(), 'work_interfere'])\n",
        "\n",
        "# Check the unique values in the 'work_interfere' column\n",
        "df_clean['work_interfere'].unique()\n"
      ]
    },
    {
      "cell_type": "markdown",
      "metadata": {
        "id": "CufOX0pr0cDz"
      },
      "source": [
        "1 - Age column"
      ]
    },
    {
      "cell_type": "code",
      "execution_count": 19,
      "metadata": {
        "colab": {
          "base_uri": "https://localhost:8080/"
        },
        "id": "lRQEGieA0cD0",
        "outputId": "7c50c8da-1bb1-4751-feaa-4bb589840a6a"
      },
      "outputs": [
        {
          "output_type": "stream",
          "name": "stdout",
          "text": [
            "[         37          44          32          31          33          35\n",
            "          39          42          23          29          36          27\n",
            "          46          41          34          30          40          38\n",
            "          50          24          18          28          26          22\n",
            "          19          25          45          21         -29          43\n",
            "          56          60          54         329          55 99999999999\n",
            "          48          20          57          58          47          62\n",
            "          51          65          49       -1726           5          53\n",
            "          61           8          11          -1          72]\n"
          ]
        }
      ],
      "source": [
        "unique_values_age = df_clean['Age'].unique()\n",
        "print(unique_values_age)"
      ]
    },
    {
      "cell_type": "code",
      "execution_count": 20,
      "metadata": {
        "id": "wpNZ3-tM0cD0"
      },
      "outputs": [],
      "source": [
        "# Fill with media() values < 18 and > 120\n",
        "df_clean.loc[df_clean['Age'] < 18, 'Age'] = df_clean['Age'].median()\n",
        "df_clean.loc[df_clean['Age'] > 120, 'Age'] = df_clean['Age'].median()"
      ]
    },
    {
      "cell_type": "code",
      "execution_count": 21,
      "metadata": {
        "colab": {
          "base_uri": "https://localhost:8080/"
        },
        "id": "fb2HEoXl0cD1",
        "outputId": "27d64e52-e332-4171-c194-4bb1509e185d"
      },
      "outputs": [
        {
          "output_type": "execute_result",
          "data": {
            "text/plain": [
              "array([37, 44, 32, 31, 33, 35, 39, 42, 23, 29, 36, 27, 46, 41, 34, 30, 40,\n",
              "       38, 50, 24, 18, 28, 26, 22, 19, 25, 45, 21, 43, 56, 60, 54, 55, 48,\n",
              "       20, 57, 58, 47, 62, 51, 65, 49, 53, 61, 72])"
            ]
          },
          "metadata": {},
          "execution_count": 21
        }
      ],
      "source": [
        "df_clean['Age'].unique()"
      ]
    },
    {
      "cell_type": "markdown",
      "metadata": {
        "id": "7TYEx0uR0cD2"
      },
      "source": [
        "Now, our age column is encoded and has no invalid values"
      ]
    },
    {
      "cell_type": "markdown",
      "metadata": {
        "id": "3fQWwe8U0cD2"
      },
      "source": [
        "2 - Gender column"
      ]
    },
    {
      "cell_type": "code",
      "execution_count": 22,
      "metadata": {
        "colab": {
          "base_uri": "https://localhost:8080/"
        },
        "id": "Qu74k2Ac0cD3",
        "outputId": "b79b8b3c-e068-489d-fd0f-a1e7d73d0ac0"
      },
      "outputs": [
        {
          "output_type": "stream",
          "name": "stdout",
          "text": [
            "['female' 'male']\n"
          ]
        }
      ],
      "source": [
        "male_str = ['male','m', 'cis male','male leaning androgynous','male-ish', 'maile', 'mal', 'male (cis)', 'male ','guy (-ish) ^_^','make','something kinda male?','man', 'msle', 'mail', 'malr','cis man']\n",
        "female_str = ['female', 'female ', 'cis female', 'f', 'femake', 'female (cis)','woman', 'femail', 'cis-female/femme', 'female (trans)','trans woman', 'trans-female', 'woman','queer','queer/she/they']\n",
        "\n",
        "df_clean['Gender'] = df_clean['Gender'].str.lower()\n",
        "df_clean.loc[df_clean['Gender'].isin(male_str), 'Gender'] = 'male'\n",
        "df_clean.loc[df_clean['Gender'].isin(female_str), 'Gender'] = 'female'\n",
        "\n",
        "#Get rid of bullshit\n",
        "stk_list = ['non-binary','nah','all','enby','fluid','genderqueer','androgyne','agender' ,'neuter','a little about you','p','ostensibly male, unsure what that really means']\n",
        "df_clean = df_clean[~df_clean['Gender'].isin(stk_list)]\n",
        "print(df_clean['Gender'].unique())"
      ]
    },
    {
      "cell_type": "code",
      "execution_count": 23,
      "metadata": {
        "colab": {
          "base_uri": "https://localhost:8080/"
        },
        "id": "Zg10kbzw0cD4",
        "outputId": "2fea90a8-3eff-4dab-b22c-5add42efe516"
      },
      "outputs": [
        {
          "output_type": "stream",
          "name": "stderr",
          "text": [
            "<ipython-input-23-250fee45f3c5>:1: SettingWithCopyWarning: \n",
            "A value is trying to be set on a copy of a slice from a DataFrame.\n",
            "Try using .loc[row_indexer,col_indexer] = value instead\n",
            "\n",
            "See the caveats in the documentation: https://pandas.pydata.org/pandas-docs/stable/user_guide/indexing.html#returning-a-view-versus-a-copy\n",
            "  df_clean['Gender'] = le.fit_transform(df_clean['Gender'])\n"
          ]
        },
        {
          "output_type": "execute_result",
          "data": {
            "text/plain": [
              "array([0, 1])"
            ]
          },
          "metadata": {},
          "execution_count": 23
        }
      ],
      "source": [
        "df_clean['Gender'] = le.fit_transform(df_clean['Gender'])\n",
        "df_clean['Gender'].unique()"
      ]
    },
    {
      "cell_type": "markdown",
      "metadata": {
        "id": "F5qRlij70cD6"
      },
      "source": [
        "3 - Self employed"
      ]
    },
    {
      "cell_type": "code",
      "execution_count": 24,
      "metadata": {
        "colab": {
          "base_uri": "https://localhost:8080/"
        },
        "id": "X10KnCgS0cD7",
        "outputId": "ec24f0b9-92f5-4399-82ca-64c931b6bd0b"
      },
      "outputs": [
        {
          "output_type": "execute_result",
          "data": {
            "text/plain": [
              "array([nan, 'Yes', 'No'], dtype=object)"
            ]
          },
          "metadata": {},
          "execution_count": 24
        }
      ],
      "source": [
        "df_clean['self_employed'].unique()"
      ]
    },
    {
      "cell_type": "code",
      "execution_count": 25,
      "metadata": {
        "colab": {
          "base_uri": "https://localhost:8080/"
        },
        "id": "UZvfY2OQ0cD8",
        "outputId": "fad69fcd-c7fa-46c3-8768-66f4a3168249"
      },
      "outputs": [
        {
          "output_type": "execute_result",
          "data": {
            "text/plain": [
              "array([nan, 1, 0], dtype=object)"
            ]
          },
          "metadata": {},
          "execution_count": 25
        }
      ],
      "source": [
        "\n",
        "df_clean.loc[df_clean['self_employed'].notnull(), 'self_employed'] = le.fit_transform(df_clean.loc[df_clean['self_employed'].notnull(), 'self_employed'])\n",
        "\n",
        "# Check the unique values in the 'work_interfere' column\n",
        "df_clean['self_employed'].unique()\n"
      ]
    },
    {
      "cell_type": "markdown",
      "metadata": {
        "id": "YSylV9pM0cD8"
      },
      "source": [
        "4 - family history"
      ]
    },
    {
      "cell_type": "code",
      "execution_count": 26,
      "metadata": {
        "colab": {
          "base_uri": "https://localhost:8080/"
        },
        "id": "hNs8Ke2Q0cD9",
        "outputId": "e68c60c6-acad-4c3b-9a90-175631c5507f"
      },
      "outputs": [
        {
          "output_type": "execute_result",
          "data": {
            "text/plain": [
              "array(['No', 'Yes'], dtype=object)"
            ]
          },
          "metadata": {},
          "execution_count": 26
        }
      ],
      "source": [
        "df_clean['family_history'].unique()"
      ]
    },
    {
      "cell_type": "code",
      "execution_count": 27,
      "metadata": {
        "colab": {
          "base_uri": "https://localhost:8080/"
        },
        "id": "elhMX4BG0cD-",
        "outputId": "52f85c96-13b3-4391-945a-f4316232b65e"
      },
      "outputs": [
        {
          "output_type": "stream",
          "name": "stderr",
          "text": [
            "<ipython-input-27-1e2ab2bf3c9b>:1: SettingWithCopyWarning: \n",
            "A value is trying to be set on a copy of a slice from a DataFrame.\n",
            "Try using .loc[row_indexer,col_indexer] = value instead\n",
            "\n",
            "See the caveats in the documentation: https://pandas.pydata.org/pandas-docs/stable/user_guide/indexing.html#returning-a-view-versus-a-copy\n",
            "  df_clean['family_history'] = le.fit_transform(df_clean['family_history'])\n"
          ]
        },
        {
          "output_type": "execute_result",
          "data": {
            "text/plain": [
              "array([0, 1])"
            ]
          },
          "metadata": {},
          "execution_count": 27
        }
      ],
      "source": [
        "df_clean['family_history'] = le.fit_transform(df_clean['family_history'])\n",
        "df_clean['family_history'].unique()"
      ]
    },
    {
      "cell_type": "markdown",
      "metadata": {
        "id": "CIgoRAKe0cD-"
      },
      "source": [
        "5 - Country"
      ]
    },
    {
      "cell_type": "code",
      "execution_count": 28,
      "metadata": {
        "colab": {
          "base_uri": "https://localhost:8080/"
        },
        "id": "Xeq6IFgV0cD_",
        "outputId": "d55d9f39-ddd1-49f6-86ec-cb908560da77"
      },
      "outputs": [
        {
          "output_type": "execute_result",
          "data": {
            "text/plain": [
              "array(['United States', 'Canada', 'United Kingdom', 'Bulgaria', 'France',\n",
              "       'Portugal', 'Netherlands', 'Switzerland', 'Poland', 'Australia',\n",
              "       'Germany', 'Russia', 'Mexico', 'Brazil', 'Slovenia', 'Costa Rica',\n",
              "       'Austria', 'Ireland', 'India', 'South Africa', 'Italy', 'Sweden',\n",
              "       'Colombia', 'Latvia', 'Romania', 'Belgium', 'New Zealand', 'Spain',\n",
              "       'Finland', 'Uruguay', 'Israel', 'Bosnia and Herzegovina',\n",
              "       'Hungary', 'Singapore', 'Japan', 'Nigeria', 'Croatia', 'Norway',\n",
              "       'Thailand', 'Denmark', 'Greece', 'Moldova', 'Georgia', 'China',\n",
              "       'Czech Republic', 'Philippines'], dtype=object)"
            ]
          },
          "metadata": {},
          "execution_count": 28
        }
      ],
      "source": [
        "df_clean['Country'].unique()"
      ]
    },
    {
      "cell_type": "code",
      "execution_count": 29,
      "metadata": {
        "colab": {
          "base_uri": "https://localhost:8080/"
        },
        "id": "t-cbW4GH0cEY",
        "outputId": "f0339adf-f943-4ed7-90bc-7fa37ccdad79"
      },
      "outputs": [
        {
          "output_type": "stream",
          "name": "stderr",
          "text": [
            "<ipython-input-29-0a50e6dab39e>:1: SettingWithCopyWarning: \n",
            "A value is trying to be set on a copy of a slice from a DataFrame.\n",
            "Try using .loc[row_indexer,col_indexer] = value instead\n",
            "\n",
            "See the caveats in the documentation: https://pandas.pydata.org/pandas-docs/stable/user_guide/indexing.html#returning-a-view-versus-a-copy\n",
            "  df_clean['Country'] = le.fit_transform(df_clean['Country'])\n"
          ]
        },
        {
          "output_type": "execute_result",
          "data": {
            "text/plain": [
              "array([44,  6, 43,  5, 14, 33, 27, 41, 32,  0, 16, 35, 25,  4, 37,  9,  1,\n",
              "       20, 19, 38, 22, 40,  8, 24, 34,  2, 28, 39, 13, 45, 21,  3, 18, 36,\n",
              "       23, 29, 10, 30, 42, 12, 17, 26, 15,  7, 11, 31])"
            ]
          },
          "metadata": {},
          "execution_count": 29
        }
      ],
      "source": [
        "df_clean['Country'] = le.fit_transform(df_clean['Country'])\n",
        "df_clean['Country'].unique()"
      ]
    },
    {
      "cell_type": "markdown",
      "metadata": {
        "id": "jLW75VEJ0cEY"
      },
      "source": [
        "6 - Treatment"
      ]
    },
    {
      "cell_type": "code",
      "execution_count": 30,
      "metadata": {
        "colab": {
          "base_uri": "https://localhost:8080/"
        },
        "id": "Mgz4suLx0cEZ",
        "outputId": "23353247-f9e2-42b2-cd85-20c2a4af4b33"
      },
      "outputs": [
        {
          "output_type": "execute_result",
          "data": {
            "text/plain": [
              "array(['Yes', 'No'], dtype=object)"
            ]
          },
          "metadata": {},
          "execution_count": 30
        }
      ],
      "source": [
        "df_clean['treatment'].unique()"
      ]
    },
    {
      "cell_type": "code",
      "execution_count": 31,
      "metadata": {
        "colab": {
          "base_uri": "https://localhost:8080/"
        },
        "id": "mvQ1bxBz0cEa",
        "outputId": "d48d2bf3-09ce-45fb-a310-44d80b9bdfd4"
      },
      "outputs": [
        {
          "output_type": "stream",
          "name": "stderr",
          "text": [
            "<ipython-input-31-ff5c14201003>:1: SettingWithCopyWarning: \n",
            "A value is trying to be set on a copy of a slice from a DataFrame.\n",
            "Try using .loc[row_indexer,col_indexer] = value instead\n",
            "\n",
            "See the caveats in the documentation: https://pandas.pydata.org/pandas-docs/stable/user_guide/indexing.html#returning-a-view-versus-a-copy\n",
            "  df_clean['treatment'] = le.fit_transform(df_clean['treatment'])\n"
          ]
        },
        {
          "output_type": "execute_result",
          "data": {
            "text/plain": [
              "array([1, 0])"
            ]
          },
          "metadata": {},
          "execution_count": 31
        }
      ],
      "source": [
        "df_clean['treatment'] = le.fit_transform(df_clean['treatment'])\n",
        "df_clean['treatment'].unique()"
      ]
    },
    {
      "cell_type": "markdown",
      "metadata": {
        "id": "XIkBXj5M0cEb"
      },
      "source": [
        "7 - no_employees                  "
      ]
    },
    {
      "cell_type": "code",
      "execution_count": 32,
      "metadata": {
        "colab": {
          "base_uri": "https://localhost:8080/"
        },
        "id": "YkERrUYf0cEb",
        "outputId": "cc2ea13c-e44c-44cd-f708-2a383ff25c5b"
      },
      "outputs": [
        {
          "output_type": "execute_result",
          "data": {
            "text/plain": [
              "array(['6-25', 'More than 1000', '26-100', '100-500', '1-5', '500-1000'],\n",
              "      dtype=object)"
            ]
          },
          "metadata": {},
          "execution_count": 32
        }
      ],
      "source": [
        "df_clean['no_employees'].unique()"
      ]
    },
    {
      "cell_type": "code",
      "execution_count": 33,
      "metadata": {
        "colab": {
          "base_uri": "https://localhost:8080/"
        },
        "id": "tQ4vHHDp0cEc",
        "outputId": "f054c2c1-c935-430e-8ebc-5d37299788d4"
      },
      "outputs": [
        {
          "output_type": "stream",
          "name": "stderr",
          "text": [
            "<ipython-input-33-8059fad5f2df>:2: SettingWithCopyWarning: \n",
            "A value is trying to be set on a copy of a slice from a DataFrame.\n",
            "Try using .loc[row_indexer,col_indexer] = value instead\n",
            "\n",
            "See the caveats in the documentation: https://pandas.pydata.org/pandas-docs/stable/user_guide/indexing.html#returning-a-view-versus-a-copy\n",
            "  df_clean['no_employees'] = le.fit_transform(df_clean['no_employees'])\n"
          ]
        },
        {
          "output_type": "execute_result",
          "data": {
            "text/plain": [
              "array([4, 5, 2, 1, 0, 3])"
            ]
          },
          "metadata": {},
          "execution_count": 33
        }
      ],
      "source": [
        "# fit and transform the 'no_employees' column\n",
        "df_clean['no_employees'] = le.fit_transform(df_clean['no_employees'])\n",
        "df_clean['no_employees'].unique()"
      ]
    },
    {
      "cell_type": "markdown",
      "metadata": {
        "id": "cKkBsVtj0cEd"
      },
      "source": [
        "8 - remote_work                   "
      ]
    },
    {
      "cell_type": "code",
      "execution_count": 34,
      "metadata": {
        "colab": {
          "base_uri": "https://localhost:8080/"
        },
        "id": "2kApAyST0cEd",
        "outputId": "dd89e86c-b870-40ae-f2fb-bd5a7feff63d"
      },
      "outputs": [
        {
          "output_type": "execute_result",
          "data": {
            "text/plain": [
              "array(['No', 'Yes'], dtype=object)"
            ]
          },
          "metadata": {},
          "execution_count": 34
        }
      ],
      "source": [
        "df_clean['remote_work'].unique()"
      ]
    },
    {
      "cell_type": "code",
      "execution_count": 35,
      "metadata": {
        "colab": {
          "base_uri": "https://localhost:8080/"
        },
        "id": "P6OpaUuv0cEe",
        "outputId": "ecfc004f-554e-442e-f2af-728216d0e23d"
      },
      "outputs": [
        {
          "output_type": "stream",
          "name": "stderr",
          "text": [
            "<ipython-input-35-426638c44905>:1: SettingWithCopyWarning: \n",
            "A value is trying to be set on a copy of a slice from a DataFrame.\n",
            "Try using .loc[row_indexer,col_indexer] = value instead\n",
            "\n",
            "See the caveats in the documentation: https://pandas.pydata.org/pandas-docs/stable/user_guide/indexing.html#returning-a-view-versus-a-copy\n",
            "  df_clean['remote_work'] = le.fit_transform(df_clean['remote_work'])\n"
          ]
        },
        {
          "output_type": "execute_result",
          "data": {
            "text/plain": [
              "array([0, 1])"
            ]
          },
          "metadata": {},
          "execution_count": 35
        }
      ],
      "source": [
        "df_clean['remote_work'] = le.fit_transform(df_clean['remote_work'])\n",
        "df_clean['remote_work'].unique()"
      ]
    },
    {
      "cell_type": "markdown",
      "metadata": {
        "id": "bO1Sm0PS0cEf"
      },
      "source": [
        "9 - tech_company                  "
      ]
    },
    {
      "cell_type": "code",
      "execution_count": 36,
      "metadata": {
        "colab": {
          "base_uri": "https://localhost:8080/"
        },
        "id": "vZY1S9np0cEg",
        "outputId": "6c18ebd1-6813-4dfc-b28d-26d779ffecc2"
      },
      "outputs": [
        {
          "output_type": "execute_result",
          "data": {
            "text/plain": [
              "array(['Yes', 'No'], dtype=object)"
            ]
          },
          "metadata": {},
          "execution_count": 36
        }
      ],
      "source": [
        "df_clean['tech_company'].unique()"
      ]
    },
    {
      "cell_type": "code",
      "execution_count": 37,
      "metadata": {
        "colab": {
          "base_uri": "https://localhost:8080/"
        },
        "id": "q1ncitqi0cEg",
        "outputId": "3715b06a-bed3-4cd2-9a50-0b19b4fb8caa"
      },
      "outputs": [
        {
          "output_type": "stream",
          "name": "stderr",
          "text": [
            "<ipython-input-37-eb544973c446>:1: SettingWithCopyWarning: \n",
            "A value is trying to be set on a copy of a slice from a DataFrame.\n",
            "Try using .loc[row_indexer,col_indexer] = value instead\n",
            "\n",
            "See the caveats in the documentation: https://pandas.pydata.org/pandas-docs/stable/user_guide/indexing.html#returning-a-view-versus-a-copy\n",
            "  df_clean['tech_company'] = le.fit_transform(df_clean['tech_company'])\n"
          ]
        },
        {
          "output_type": "execute_result",
          "data": {
            "text/plain": [
              "array([1, 0])"
            ]
          },
          "metadata": {},
          "execution_count": 37
        }
      ],
      "source": [
        "df_clean['tech_company'] = le.fit_transform(df_clean['tech_company'])\n",
        "df_clean['tech_company'].unique()"
      ]
    },
    {
      "cell_type": "markdown",
      "metadata": {
        "id": "VpNZlGuN0cEh"
      },
      "source": [
        "10 - benefits                      "
      ]
    },
    {
      "cell_type": "code",
      "execution_count": 38,
      "metadata": {
        "colab": {
          "base_uri": "https://localhost:8080/"
        },
        "id": "8-qcdd5M0cEi",
        "outputId": "24b44369-73a5-486d-a03f-3774af1e3c64"
      },
      "outputs": [
        {
          "output_type": "execute_result",
          "data": {
            "text/plain": [
              "array(['Yes', \"Don't know\", 'No'], dtype=object)"
            ]
          },
          "metadata": {},
          "execution_count": 38
        }
      ],
      "source": [
        "df_clean['benefits'].unique()"
      ]
    },
    {
      "cell_type": "code",
      "execution_count": 39,
      "metadata": {
        "colab": {
          "base_uri": "https://localhost:8080/"
        },
        "id": "lL73uutD0cEj",
        "outputId": "d5013e6f-4ab0-4b53-ae5d-8288cac4a314"
      },
      "outputs": [
        {
          "output_type": "stream",
          "name": "stderr",
          "text": [
            "<ipython-input-39-ec1c44b7fcd1>:1: SettingWithCopyWarning: \n",
            "A value is trying to be set on a copy of a slice from a DataFrame.\n",
            "Try using .loc[row_indexer,col_indexer] = value instead\n",
            "\n",
            "See the caveats in the documentation: https://pandas.pydata.org/pandas-docs/stable/user_guide/indexing.html#returning-a-view-versus-a-copy\n",
            "  df_clean['benefits'] = le.fit_transform(df_clean['benefits'])\n"
          ]
        },
        {
          "output_type": "execute_result",
          "data": {
            "text/plain": [
              "array([2, 0, 1])"
            ]
          },
          "metadata": {},
          "execution_count": 39
        }
      ],
      "source": [
        "df_clean['benefits'] = le.fit_transform(df_clean['benefits'])\n",
        "df_clean['benefits'].unique()"
      ]
    },
    {
      "cell_type": "markdown",
      "metadata": {
        "id": "d7CVR1yk0cEk"
      },
      "source": [
        "11 - care_options                  "
      ]
    },
    {
      "cell_type": "code",
      "execution_count": 40,
      "metadata": {
        "colab": {
          "base_uri": "https://localhost:8080/"
        },
        "id": "xgWz5Gp40cEk",
        "outputId": "19a946a2-9226-45e8-e2a8-91a49813b454"
      },
      "outputs": [
        {
          "output_type": "execute_result",
          "data": {
            "text/plain": [
              "array(['Not sure', 'No', 'Yes'], dtype=object)"
            ]
          },
          "metadata": {},
          "execution_count": 40
        }
      ],
      "source": [
        "df_clean['care_options'].unique()"
      ]
    },
    {
      "cell_type": "code",
      "execution_count": 41,
      "metadata": {
        "colab": {
          "base_uri": "https://localhost:8080/"
        },
        "id": "LSKNnVTW0cEl",
        "outputId": "46e6421b-978e-449f-e120-47a25e984e92"
      },
      "outputs": [
        {
          "output_type": "stream",
          "name": "stderr",
          "text": [
            "<ipython-input-41-ba0b58048672>:1: SettingWithCopyWarning: \n",
            "A value is trying to be set on a copy of a slice from a DataFrame.\n",
            "Try using .loc[row_indexer,col_indexer] = value instead\n",
            "\n",
            "See the caveats in the documentation: https://pandas.pydata.org/pandas-docs/stable/user_guide/indexing.html#returning-a-view-versus-a-copy\n",
            "  df_clean['care_options'] = le.fit_transform(df_clean['care_options'])\n"
          ]
        },
        {
          "output_type": "execute_result",
          "data": {
            "text/plain": [
              "array([1, 0, 2])"
            ]
          },
          "metadata": {},
          "execution_count": 41
        }
      ],
      "source": [
        "df_clean['care_options'] = le.fit_transform(df_clean['care_options'])\n",
        "df_clean['care_options'].unique()"
      ]
    },
    {
      "cell_type": "markdown",
      "metadata": {
        "id": "aRK9em690cEm"
      },
      "source": [
        "12 - wellness_program              \n"
      ]
    },
    {
      "cell_type": "code",
      "execution_count": 42,
      "metadata": {
        "colab": {
          "base_uri": "https://localhost:8080/"
        },
        "id": "P7FeBp_m0cEn",
        "outputId": "e7087fc0-fbc1-4ed1-8b64-25bf6e33cad8"
      },
      "outputs": [
        {
          "output_type": "execute_result",
          "data": {
            "text/plain": [
              "array(['No', \"Don't know\", 'Yes'], dtype=object)"
            ]
          },
          "metadata": {},
          "execution_count": 42
        }
      ],
      "source": [
        "df_clean['wellness_program'].unique()"
      ]
    },
    {
      "cell_type": "code",
      "execution_count": 43,
      "metadata": {
        "colab": {
          "base_uri": "https://localhost:8080/"
        },
        "id": "y-yDeHjK0cEo",
        "outputId": "063242c5-a687-4408-c28e-74f719295aa3"
      },
      "outputs": [
        {
          "output_type": "stream",
          "name": "stderr",
          "text": [
            "<ipython-input-43-de9f268583f8>:1: SettingWithCopyWarning: \n",
            "A value is trying to be set on a copy of a slice from a DataFrame.\n",
            "Try using .loc[row_indexer,col_indexer] = value instead\n",
            "\n",
            "See the caveats in the documentation: https://pandas.pydata.org/pandas-docs/stable/user_guide/indexing.html#returning-a-view-versus-a-copy\n",
            "  df_clean['wellness_program'] = le.fit_transform(df_clean['wellness_program'])\n"
          ]
        }
      ],
      "source": [
        "df_clean['wellness_program'] = le.fit_transform(df_clean['wellness_program'])"
      ]
    },
    {
      "cell_type": "markdown",
      "metadata": {
        "id": "tR07t9Fl0cEp"
      },
      "source": [
        "13 - seek_help                     \n"
      ]
    },
    {
      "cell_type": "code",
      "execution_count": 44,
      "metadata": {
        "colab": {
          "base_uri": "https://localhost:8080/"
        },
        "id": "7td4iE7R0cEq",
        "outputId": "54cef45e-9657-4e1d-86a8-bf6180315084"
      },
      "outputs": [
        {
          "output_type": "execute_result",
          "data": {
            "text/plain": [
              "array(['Yes', \"Don't know\", 'No'], dtype=object)"
            ]
          },
          "metadata": {},
          "execution_count": 44
        }
      ],
      "source": [
        "df_clean['seek_help'].unique()"
      ]
    },
    {
      "cell_type": "code",
      "execution_count": 45,
      "metadata": {
        "colab": {
          "base_uri": "https://localhost:8080/"
        },
        "id": "K5cKRYTK0cEq",
        "outputId": "206e11e1-0c15-4109-9828-af3b1be3e483"
      },
      "outputs": [
        {
          "output_type": "stream",
          "name": "stderr",
          "text": [
            "<ipython-input-45-c09eac1ae16b>:1: SettingWithCopyWarning: \n",
            "A value is trying to be set on a copy of a slice from a DataFrame.\n",
            "Try using .loc[row_indexer,col_indexer] = value instead\n",
            "\n",
            "See the caveats in the documentation: https://pandas.pydata.org/pandas-docs/stable/user_guide/indexing.html#returning-a-view-versus-a-copy\n",
            "  df_clean['seek_help'] = le.fit_transform(df_clean['seek_help'])\n"
          ]
        },
        {
          "output_type": "execute_result",
          "data": {
            "text/plain": [
              "array([2, 0, 1])"
            ]
          },
          "metadata": {},
          "execution_count": 45
        }
      ],
      "source": [
        "df_clean['seek_help'] = le.fit_transform(df_clean['seek_help'])\n",
        "df_clean['seek_help'].unique()"
      ]
    },
    {
      "cell_type": "markdown",
      "metadata": {
        "id": "hC_-eTJt0cEr"
      },
      "source": [
        "14 - anonymity                     \n"
      ]
    },
    {
      "cell_type": "code",
      "execution_count": 46,
      "metadata": {
        "colab": {
          "base_uri": "https://localhost:8080/"
        },
        "id": "-EFyosDm0cEs",
        "outputId": "e7c70978-c20d-461d-c722-afefd6427255"
      },
      "outputs": [
        {
          "output_type": "execute_result",
          "data": {
            "text/plain": [
              "array(['Yes', \"Don't know\", 'No'], dtype=object)"
            ]
          },
          "metadata": {},
          "execution_count": 46
        }
      ],
      "source": [
        "df_clean['anonymity'].unique()"
      ]
    },
    {
      "cell_type": "code",
      "execution_count": 47,
      "metadata": {
        "colab": {
          "base_uri": "https://localhost:8080/"
        },
        "id": "quao1FYT0cEt",
        "outputId": "ac5c5b94-bc4b-4537-f2b0-a28bdabdb1ab"
      },
      "outputs": [
        {
          "output_type": "stream",
          "name": "stderr",
          "text": [
            "<ipython-input-47-53aa2cbfdc9b>:1: SettingWithCopyWarning: \n",
            "A value is trying to be set on a copy of a slice from a DataFrame.\n",
            "Try using .loc[row_indexer,col_indexer] = value instead\n",
            "\n",
            "See the caveats in the documentation: https://pandas.pydata.org/pandas-docs/stable/user_guide/indexing.html#returning-a-view-versus-a-copy\n",
            "  df_clean['anonymity'] = le.fit_transform(df_clean['anonymity'])\n"
          ]
        },
        {
          "output_type": "execute_result",
          "data": {
            "text/plain": [
              "array([2, 0, 1])"
            ]
          },
          "metadata": {},
          "execution_count": 47
        }
      ],
      "source": [
        "df_clean['anonymity'] = le.fit_transform(df_clean['anonymity'])\n",
        "df_clean['anonymity'].unique()"
      ]
    },
    {
      "cell_type": "markdown",
      "metadata": {
        "id": "e99NnqUZ0cEu"
      },
      "source": [
        "15 - leave                         \n"
      ]
    },
    {
      "cell_type": "code",
      "execution_count": 48,
      "metadata": {
        "colab": {
          "base_uri": "https://localhost:8080/"
        },
        "id": "x3DWlD9U0cEv",
        "outputId": "0838bdf6-f143-4fb5-8d0d-7aac28622152"
      },
      "outputs": [
        {
          "output_type": "execute_result",
          "data": {
            "text/plain": [
              "array(['Somewhat easy', \"Don't know\", 'Somewhat difficult',\n",
              "       'Very difficult', 'Very easy'], dtype=object)"
            ]
          },
          "metadata": {},
          "execution_count": 48
        }
      ],
      "source": [
        "df_clean['leave'].unique()"
      ]
    },
    {
      "cell_type": "code",
      "execution_count": 49,
      "metadata": {
        "colab": {
          "base_uri": "https://localhost:8080/"
        },
        "id": "5AGmoxFg0cEw",
        "outputId": "e9c8c6c6-485a-4697-b2e7-da9758fe4af8"
      },
      "outputs": [
        {
          "output_type": "stream",
          "name": "stderr",
          "text": [
            "<ipython-input-49-3437d5edbef9>:1: SettingWithCopyWarning: \n",
            "A value is trying to be set on a copy of a slice from a DataFrame.\n",
            "Try using .loc[row_indexer,col_indexer] = value instead\n",
            "\n",
            "See the caveats in the documentation: https://pandas.pydata.org/pandas-docs/stable/user_guide/indexing.html#returning-a-view-versus-a-copy\n",
            "  df_clean['leave'] = le.fit_transform(df_clean['leave'])\n"
          ]
        },
        {
          "output_type": "execute_result",
          "data": {
            "text/plain": [
              "array([2, 0, 1, 3, 4])"
            ]
          },
          "metadata": {},
          "execution_count": 49
        }
      ],
      "source": [
        "df_clean['leave'] = le.fit_transform(df_clean['leave'])\n",
        "df_clean['leave'].unique()"
      ]
    },
    {
      "cell_type": "markdown",
      "metadata": {
        "id": "20NLwyuZ0cEx"
      },
      "source": [
        "16 - mental_health_consequence     \n"
      ]
    },
    {
      "cell_type": "code",
      "execution_count": 50,
      "metadata": {
        "colab": {
          "base_uri": "https://localhost:8080/"
        },
        "id": "Kt48aX440cEx",
        "outputId": "5a695a06-feee-4309-b3dc-3d9e7367d138"
      },
      "outputs": [
        {
          "output_type": "execute_result",
          "data": {
            "text/plain": [
              "array(['No', 'Maybe', 'Yes'], dtype=object)"
            ]
          },
          "metadata": {},
          "execution_count": 50
        }
      ],
      "source": [
        "df_clean['mental_health_consequence'].unique()"
      ]
    },
    {
      "cell_type": "code",
      "execution_count": 51,
      "metadata": {
        "colab": {
          "base_uri": "https://localhost:8080/"
        },
        "id": "s7rSldf40cEy",
        "outputId": "0f366564-a3ca-4704-8e61-715acdb75412"
      },
      "outputs": [
        {
          "output_type": "stream",
          "name": "stderr",
          "text": [
            "<ipython-input-51-74e37985cdb4>:1: SettingWithCopyWarning: \n",
            "A value is trying to be set on a copy of a slice from a DataFrame.\n",
            "Try using .loc[row_indexer,col_indexer] = value instead\n",
            "\n",
            "See the caveats in the documentation: https://pandas.pydata.org/pandas-docs/stable/user_guide/indexing.html#returning-a-view-versus-a-copy\n",
            "  df_clean['mental_health_consequence'] = le.fit_transform(df_clean['mental_health_consequence'])\n"
          ]
        },
        {
          "output_type": "execute_result",
          "data": {
            "text/plain": [
              "array([1, 0, 2])"
            ]
          },
          "metadata": {},
          "execution_count": 51
        }
      ],
      "source": [
        "df_clean['mental_health_consequence'] = le.fit_transform(df_clean['mental_health_consequence'])\n",
        "df_clean['mental_health_consequence'].unique()"
      ]
    },
    {
      "cell_type": "markdown",
      "metadata": {
        "id": "4-HoiJg50cEz"
      },
      "source": [
        "17 - phys_health_consequence      "
      ]
    },
    {
      "cell_type": "code",
      "execution_count": 52,
      "metadata": {
        "colab": {
          "base_uri": "https://localhost:8080/"
        },
        "id": "IZPgvad90cE0",
        "outputId": "578b9b96-02e5-4957-ded0-0bc0d24b1764"
      },
      "outputs": [
        {
          "output_type": "execute_result",
          "data": {
            "text/plain": [
              "array(['No', 'Yes', 'Maybe'], dtype=object)"
            ]
          },
          "metadata": {},
          "execution_count": 52
        }
      ],
      "source": [
        "df_clean['phys_health_consequence'].unique()"
      ]
    },
    {
      "cell_type": "code",
      "execution_count": 53,
      "metadata": {
        "colab": {
          "base_uri": "https://localhost:8080/"
        },
        "id": "L_F2ol__0cE2",
        "outputId": "5daf371d-50cc-412d-b372-ed956c14844e"
      },
      "outputs": [
        {
          "output_type": "stream",
          "name": "stderr",
          "text": [
            "<ipython-input-53-5265bb6860a4>:1: SettingWithCopyWarning: \n",
            "A value is trying to be set on a copy of a slice from a DataFrame.\n",
            "Try using .loc[row_indexer,col_indexer] = value instead\n",
            "\n",
            "See the caveats in the documentation: https://pandas.pydata.org/pandas-docs/stable/user_guide/indexing.html#returning-a-view-versus-a-copy\n",
            "  df_clean['phys_health_consequence'] = le.fit_transform(df_clean['phys_health_consequence'])\n"
          ]
        },
        {
          "output_type": "execute_result",
          "data": {
            "text/plain": [
              "array([1, 2, 0])"
            ]
          },
          "metadata": {},
          "execution_count": 53
        }
      ],
      "source": [
        "df_clean['phys_health_consequence'] = le.fit_transform(df_clean['phys_health_consequence'])\n",
        "df_clean['phys_health_consequence'].unique()"
      ]
    },
    {
      "cell_type": "markdown",
      "metadata": {
        "id": "OqJkZ4nk0cE3"
      },
      "source": [
        "18 - coworkers                     "
      ]
    },
    {
      "cell_type": "code",
      "execution_count": 54,
      "metadata": {
        "colab": {
          "base_uri": "https://localhost:8080/"
        },
        "id": "0ifAseyd0cE3",
        "outputId": "e267ef9f-8ae8-4346-cb7d-4f6580e493a3"
      },
      "outputs": [
        {
          "output_type": "execute_result",
          "data": {
            "text/plain": [
              "array(['Some of them', 'No', 'Yes'], dtype=object)"
            ]
          },
          "metadata": {},
          "execution_count": 54
        }
      ],
      "source": [
        "df_clean['coworkers'].unique()"
      ]
    },
    {
      "cell_type": "code",
      "execution_count": 55,
      "metadata": {
        "colab": {
          "base_uri": "https://localhost:8080/"
        },
        "id": "m72DSVSB0cE4",
        "outputId": "329c6ca5-0533-4870-fe91-d1e2a73f1bf6"
      },
      "outputs": [
        {
          "output_type": "stream",
          "name": "stderr",
          "text": [
            "<ipython-input-55-6fb03751373e>:1: SettingWithCopyWarning: \n",
            "A value is trying to be set on a copy of a slice from a DataFrame.\n",
            "Try using .loc[row_indexer,col_indexer] = value instead\n",
            "\n",
            "See the caveats in the documentation: https://pandas.pydata.org/pandas-docs/stable/user_guide/indexing.html#returning-a-view-versus-a-copy\n",
            "  df_clean['coworkers'] = le.fit_transform(df_clean['coworkers'])\n"
          ]
        },
        {
          "output_type": "execute_result",
          "data": {
            "text/plain": [
              "array([1, 0, 2])"
            ]
          },
          "metadata": {},
          "execution_count": 55
        }
      ],
      "source": [
        "df_clean['coworkers'] = le.fit_transform(df_clean['coworkers'])\n",
        "df_clean['coworkers'].unique()"
      ]
    },
    {
      "cell_type": "markdown",
      "metadata": {
        "id": "WMgJ6HGA0cE5"
      },
      "source": [
        "19 - supervisor                    \n"
      ]
    },
    {
      "cell_type": "code",
      "execution_count": 56,
      "metadata": {
        "colab": {
          "base_uri": "https://localhost:8080/"
        },
        "id": "hHmLsZsD0cE5",
        "outputId": "043e09d0-745b-4cdf-b876-f7b522d8d060"
      },
      "outputs": [
        {
          "output_type": "execute_result",
          "data": {
            "text/plain": [
              "array(['Yes', 'No', 'Some of them'], dtype=object)"
            ]
          },
          "metadata": {},
          "execution_count": 56
        }
      ],
      "source": [
        "df_clean['supervisor'].unique()"
      ]
    },
    {
      "cell_type": "code",
      "execution_count": 57,
      "metadata": {
        "colab": {
          "base_uri": "https://localhost:8080/"
        },
        "id": "kQg5r3TE0cE6",
        "outputId": "ea809684-9a07-4cc3-bd7b-2660b4bfb78e"
      },
      "outputs": [
        {
          "output_type": "stream",
          "name": "stderr",
          "text": [
            "<ipython-input-57-e2b24938b0f3>:1: SettingWithCopyWarning: \n",
            "A value is trying to be set on a copy of a slice from a DataFrame.\n",
            "Try using .loc[row_indexer,col_indexer] = value instead\n",
            "\n",
            "See the caveats in the documentation: https://pandas.pydata.org/pandas-docs/stable/user_guide/indexing.html#returning-a-view-versus-a-copy\n",
            "  df_clean['supervisor'] = le.fit_transform(df_clean['supervisor'])\n"
          ]
        },
        {
          "output_type": "execute_result",
          "data": {
            "text/plain": [
              "array([2, 0, 1])"
            ]
          },
          "metadata": {},
          "execution_count": 57
        }
      ],
      "source": [
        "df_clean['supervisor'] = le.fit_transform(df_clean['supervisor'])\n",
        "df_clean['supervisor'].unique()"
      ]
    },
    {
      "cell_type": "markdown",
      "metadata": {
        "id": "OMIJ_HEW0cE7"
      },
      "source": [
        "20 - mental_health_interview      \n"
      ]
    },
    {
      "cell_type": "code",
      "execution_count": 58,
      "metadata": {
        "colab": {
          "base_uri": "https://localhost:8080/"
        },
        "id": "1Nl3iYQj0cE7",
        "outputId": "7a7a9c6f-5dd4-47a5-8787-d69ff41be69f"
      },
      "outputs": [
        {
          "output_type": "execute_result",
          "data": {
            "text/plain": [
              "array(['No', 'Yes', 'Maybe'], dtype=object)"
            ]
          },
          "metadata": {},
          "execution_count": 58
        }
      ],
      "source": [
        "df_clean['mental_health_interview'].unique()"
      ]
    },
    {
      "cell_type": "code",
      "execution_count": 59,
      "metadata": {
        "colab": {
          "base_uri": "https://localhost:8080/"
        },
        "id": "u3TK7HWx0cE9",
        "outputId": "c1349f0d-0a85-4904-b958-646facf0c769"
      },
      "outputs": [
        {
          "output_type": "stream",
          "name": "stderr",
          "text": [
            "<ipython-input-59-52f14f1c7124>:1: SettingWithCopyWarning: \n",
            "A value is trying to be set on a copy of a slice from a DataFrame.\n",
            "Try using .loc[row_indexer,col_indexer] = value instead\n",
            "\n",
            "See the caveats in the documentation: https://pandas.pydata.org/pandas-docs/stable/user_guide/indexing.html#returning-a-view-versus-a-copy\n",
            "  df_clean['mental_health_interview'] = le.fit_transform(df_clean['mental_health_interview'])\n"
          ]
        },
        {
          "output_type": "execute_result",
          "data": {
            "text/plain": [
              "array([1, 2, 0])"
            ]
          },
          "metadata": {},
          "execution_count": 59
        }
      ],
      "source": [
        "df_clean['mental_health_interview'] = le.fit_transform(df_clean['mental_health_interview'])\n",
        "df_clean['mental_health_interview'].unique()"
      ]
    },
    {
      "cell_type": "markdown",
      "metadata": {
        "id": "hcg-J30X0cE-"
      },
      "source": [
        "21 - phys_health_interview        "
      ]
    },
    {
      "cell_type": "code",
      "execution_count": 60,
      "metadata": {
        "colab": {
          "base_uri": "https://localhost:8080/"
        },
        "id": "SFClsEkD0cE_",
        "outputId": "d5e7c1a2-00be-49ff-c1d5-7d7e47ce7e52"
      },
      "outputs": [
        {
          "output_type": "execute_result",
          "data": {
            "text/plain": [
              "array(['Maybe', 'No', 'Yes'], dtype=object)"
            ]
          },
          "metadata": {},
          "execution_count": 60
        }
      ],
      "source": [
        "df_clean['phys_health_interview'].unique()"
      ]
    },
    {
      "cell_type": "code",
      "execution_count": 61,
      "metadata": {
        "colab": {
          "base_uri": "https://localhost:8080/"
        },
        "id": "Oy46Au6a0cE_",
        "outputId": "6dbcc460-8a24-4b6c-ab04-fbb39bc03e6a"
      },
      "outputs": [
        {
          "output_type": "stream",
          "name": "stderr",
          "text": [
            "<ipython-input-61-174c5293a0e5>:1: SettingWithCopyWarning: \n",
            "A value is trying to be set on a copy of a slice from a DataFrame.\n",
            "Try using .loc[row_indexer,col_indexer] = value instead\n",
            "\n",
            "See the caveats in the documentation: https://pandas.pydata.org/pandas-docs/stable/user_guide/indexing.html#returning-a-view-versus-a-copy\n",
            "  df_clean['phys_health_interview'] = le.fit_transform(df_clean['phys_health_interview'])\n"
          ]
        },
        {
          "output_type": "execute_result",
          "data": {
            "text/plain": [
              "array([0, 1, 2])"
            ]
          },
          "metadata": {},
          "execution_count": 61
        }
      ],
      "source": [
        "df_clean['phys_health_interview'] = le.fit_transform(df_clean['phys_health_interview'])\n",
        "df_clean['phys_health_interview'].unique()"
      ]
    },
    {
      "cell_type": "markdown",
      "metadata": {
        "id": "8V6tpky60cFA"
      },
      "source": [
        "22 - mental_vs_physical            \n"
      ]
    },
    {
      "cell_type": "code",
      "execution_count": 62,
      "metadata": {
        "colab": {
          "base_uri": "https://localhost:8080/"
        },
        "id": "4Iz2Qjvv0cFB",
        "outputId": "aff84531-7ad8-4316-831a-4e1da8f80bc1"
      },
      "outputs": [
        {
          "output_type": "execute_result",
          "data": {
            "text/plain": [
              "array(['Yes', \"Don't know\", 'No'], dtype=object)"
            ]
          },
          "metadata": {},
          "execution_count": 62
        }
      ],
      "source": [
        "df_clean['mental_vs_physical'].unique()"
      ]
    },
    {
      "cell_type": "code",
      "execution_count": 63,
      "metadata": {
        "colab": {
          "base_uri": "https://localhost:8080/"
        },
        "id": "Polp3_Cd0cFC",
        "outputId": "58814fb1-2736-4c1c-ca18-436159019ccf"
      },
      "outputs": [
        {
          "output_type": "stream",
          "name": "stderr",
          "text": [
            "<ipython-input-63-d053bab3571f>:1: SettingWithCopyWarning: \n",
            "A value is trying to be set on a copy of a slice from a DataFrame.\n",
            "Try using .loc[row_indexer,col_indexer] = value instead\n",
            "\n",
            "See the caveats in the documentation: https://pandas.pydata.org/pandas-docs/stable/user_guide/indexing.html#returning-a-view-versus-a-copy\n",
            "  df_clean['mental_vs_physical'] = le.fit_transform(df_clean['mental_vs_physical'])\n"
          ]
        },
        {
          "output_type": "execute_result",
          "data": {
            "text/plain": [
              "array([2, 0, 1])"
            ]
          },
          "metadata": {},
          "execution_count": 63
        }
      ],
      "source": [
        "df_clean['mental_vs_physical'] = le.fit_transform(df_clean['mental_vs_physical'])\n",
        "df_clean['mental_vs_physical'].unique()"
      ]
    },
    {
      "cell_type": "markdown",
      "metadata": {
        "id": "sPQr0T060cFC"
      },
      "source": [
        "23 - obs_consequence"
      ]
    },
    {
      "cell_type": "code",
      "execution_count": 64,
      "metadata": {
        "colab": {
          "base_uri": "https://localhost:8080/"
        },
        "id": "iacyOeQ90cFD",
        "outputId": "1d626abd-c432-42f3-8fe6-10e95facdc95"
      },
      "outputs": [
        {
          "output_type": "execute_result",
          "data": {
            "text/plain": [
              "array(['No', 'Yes'], dtype=object)"
            ]
          },
          "metadata": {},
          "execution_count": 64
        }
      ],
      "source": [
        "df_clean['obs_consequence'].unique()"
      ]
    },
    {
      "cell_type": "code",
      "execution_count": 65,
      "metadata": {
        "colab": {
          "base_uri": "https://localhost:8080/"
        },
        "id": "uj8cMOAu0cFE",
        "outputId": "ffb40cf6-c187-483d-883a-59cc963d8102"
      },
      "outputs": [
        {
          "output_type": "stream",
          "name": "stderr",
          "text": [
            "<ipython-input-65-8ca7ec4a7440>:1: SettingWithCopyWarning: \n",
            "A value is trying to be set on a copy of a slice from a DataFrame.\n",
            "Try using .loc[row_indexer,col_indexer] = value instead\n",
            "\n",
            "See the caveats in the documentation: https://pandas.pydata.org/pandas-docs/stable/user_guide/indexing.html#returning-a-view-versus-a-copy\n",
            "  df_clean['obs_consequence'] = le.fit_transform(df_clean['obs_consequence'])\n"
          ]
        },
        {
          "output_type": "execute_result",
          "data": {
            "text/plain": [
              "array([0, 1])"
            ]
          },
          "metadata": {},
          "execution_count": 65
        }
      ],
      "source": [
        "df_clean['obs_consequence'] = le.fit_transform(df_clean['obs_consequence'])\n",
        "df_clean['obs_consequence'].unique()"
      ]
    },
    {
      "cell_type": "markdown",
      "metadata": {
        "id": "m85QT6160cFE"
      },
      "source": [
        "##### Filling the missing data"
      ]
    },
    {
      "cell_type": "markdown",
      "metadata": {
        "id": "ejNWBUqE0cFF"
      },
      "source": [
        "1. Work interfere"
      ]
    },
    {
      "cell_type": "code",
      "execution_count": 66,
      "metadata": {
        "id": "tTZ5Pk1q0cFF"
      },
      "outputs": [],
      "source": [
        "# df_clean['work_interfere'] = df_clean['work_interfere'].fillna(df_clean['work_interfere'].median())\n",
        "# df_clean[\"work_interfere\"].unique()"
      ]
    },
    {
      "cell_type": "code",
      "execution_count": 67,
      "metadata": {
        "id": "_fQ_5wq30cFG"
      },
      "outputs": [],
      "source": [
        "# from sklearn.linear_model import LinearRegression\n",
        "\n",
        "# lr = LinearRegression()\n",
        "# df_clean.head()\n",
        "# null_values = df_clean[df_clean['work_interfere'].isnull()==True]\n",
        "# traindf = df_clean.dropna()\n",
        "# y = traindf['work_interfere']\n",
        "# traindf.drop(\"work_interfere\",axis=1,inplace=True)\n",
        "# lr.fit(traindf,y)\n",
        "# null_values.drop(\"work_interfere\",axis=1,inplace=True)\n",
        "# pred = lr.predict(null_values)\n",
        "# null_values['work_interfere']= pred\n",
        "# df_clean[df_clean['work_interfere'].isnull()==True] = null_values"
      ]
    },
    {
      "cell_type": "code",
      "execution_count": 68,
      "metadata": {
        "id": "G1vSMRTx0cFH"
      },
      "outputs": [],
      "source": [
        "from sklearn.linear_model import LinearRegression\n",
        "\n",
        "\n",
        "# Separate columns with missing values from those without missing values\n",
        "missing_cols = ['work_interfere', 'self_employed']\n",
        "other_cols = [col for col in df_clean.columns if col not in missing_cols]\n",
        "\n",
        "# Create a linear regression model for each missing column\n",
        "for col in missing_cols:\n",
        "    # Split the data into training and test sets\n",
        "    train_data = df_clean.dropna(subset=[col] + other_cols)\n",
        "    test_data = df_clean[df_clean[col].isna()].drop(col, axis=1)\n",
        "    test_data = test_data[other_cols] # Add missing feature column\n",
        "\n",
        "    # Create the linear regression object\n",
        "    reg = LinearRegression()\n",
        "\n",
        "    # Fit the model to the training data\n",
        "    reg.fit(train_data[other_cols], train_data[col])\n",
        "\n",
        "    # Predict the missing values\n",
        "    df_clean.loc[df_clean[col].isna(), col] = reg.predict(test_data)\n"
      ]
    },
    {
      "cell_type": "markdown",
      "metadata": {
        "id": "B4P5l_7o0cFH"
      },
      "source": [
        "2. Self employed"
      ]
    },
    {
      "cell_type": "code",
      "execution_count": 69,
      "metadata": {
        "id": "NV8TQoHH0cFI"
      },
      "outputs": [],
      "source": [
        "# df_clean['self_employed'] = df_clean['self_employed'].fillna(df_clean['self_employed'].median())\n",
        "# df_clean['self_employed'].unique()"
      ]
    },
    {
      "cell_type": "code",
      "execution_count": 70,
      "metadata": {
        "id": "eCd8qfVd0cFJ"
      },
      "outputs": [],
      "source": [
        "\n",
        "# lr = LinearRegression()\n",
        "# df_clean.head()\n",
        "# testdf = df_clean[df_clean['self_employed'].isnull()==True]\n",
        "# traindf = df_clean.dropna()\n",
        "# y = traindf['self_employed']\n",
        "# traindf.drop(\"self_employed\",axis=1,inplace=True)\n",
        "# lr.fit(traindf,y)\n",
        "# testdf.drop(\"self_employed\",axis=1,inplace=True)\n",
        "# pred = lr.predict(testdf)\n",
        "# testdf['self_employed']= pred\n",
        "# df_clean[df_clean['self_employed'].isnull()==True] = testdf"
      ]
    },
    {
      "cell_type": "markdown",
      "metadata": {
        "id": "BPFeuaTD0cFJ"
      },
      "source": [
        "### Explore and visualize data : exploratory data analysis (EDA)\n"
      ]
    },
    {
      "cell_type": "code",
      "execution_count": 71,
      "metadata": {
        "colab": {
          "base_uri": "https://localhost:8080/",
          "height": 256
        },
        "id": "HKmTZQnY0cFK",
        "outputId": "b699fc6f-7950-472e-d59b-88f12a18ad87"
      },
      "outputs": [
        {
          "output_type": "execute_result",
          "data": {
            "text/plain": [
              "   Age  Gender  Country self_employed  family_history  treatment  \\\n",
              "0   37       0       44      0.039959               0          1   \n",
              "1   44       1       44     -0.085086               0          0   \n",
              "2   32       1        6      0.045845               0          0   \n",
              "3   31       1       43      0.147979               1          1   \n",
              "4   31       1       44      0.180743               0          0   \n",
              "\n",
              "  work_interfere  no_employees  remote_work  tech_company  ...  anonymity  \\\n",
              "0              1             4            0             1  ...          2   \n",
              "1              2             5            0             0  ...          0   \n",
              "2              2             4            0             1  ...          0   \n",
              "3              1             2            0             1  ...          1   \n",
              "4              0             1            1             1  ...          0   \n",
              "\n",
              "   leave  mental_health_consequence  phys_health_consequence  coworkers  \\\n",
              "0      2                          1                        1          1   \n",
              "1      0                          0                        1          0   \n",
              "2      1                          1                        1          2   \n",
              "3      1                          2                        2          1   \n",
              "4      0                          1                        1          1   \n",
              "\n",
              "   supervisor  mental_health_interview  phys_health_interview  \\\n",
              "0           2                        1                      0   \n",
              "1           0                        1                      1   \n",
              "2           2                        2                      2   \n",
              "3           0                        0                      0   \n",
              "4           2                        2                      2   \n",
              "\n",
              "   mental_vs_physical  obs_consequence  \n",
              "0                   2                0  \n",
              "1                   0                0  \n",
              "2                   1                0  \n",
              "3                   1                1  \n",
              "4                   0                0  \n",
              "\n",
              "[5 rows x 24 columns]"
            ],
            "text/html": [
              "\n",
              "  <div id=\"df-38cb3c33-33a3-4772-a407-012e2681b0ab\" class=\"colab-df-container\">\n",
              "    <div>\n",
              "<style scoped>\n",
              "    .dataframe tbody tr th:only-of-type {\n",
              "        vertical-align: middle;\n",
              "    }\n",
              "\n",
              "    .dataframe tbody tr th {\n",
              "        vertical-align: top;\n",
              "    }\n",
              "\n",
              "    .dataframe thead th {\n",
              "        text-align: right;\n",
              "    }\n",
              "</style>\n",
              "<table border=\"1\" class=\"dataframe\">\n",
              "  <thead>\n",
              "    <tr style=\"text-align: right;\">\n",
              "      <th></th>\n",
              "      <th>Age</th>\n",
              "      <th>Gender</th>\n",
              "      <th>Country</th>\n",
              "      <th>self_employed</th>\n",
              "      <th>family_history</th>\n",
              "      <th>treatment</th>\n",
              "      <th>work_interfere</th>\n",
              "      <th>no_employees</th>\n",
              "      <th>remote_work</th>\n",
              "      <th>tech_company</th>\n",
              "      <th>...</th>\n",
              "      <th>anonymity</th>\n",
              "      <th>leave</th>\n",
              "      <th>mental_health_consequence</th>\n",
              "      <th>phys_health_consequence</th>\n",
              "      <th>coworkers</th>\n",
              "      <th>supervisor</th>\n",
              "      <th>mental_health_interview</th>\n",
              "      <th>phys_health_interview</th>\n",
              "      <th>mental_vs_physical</th>\n",
              "      <th>obs_consequence</th>\n",
              "    </tr>\n",
              "  </thead>\n",
              "  <tbody>\n",
              "    <tr>\n",
              "      <th>0</th>\n",
              "      <td>37</td>\n",
              "      <td>0</td>\n",
              "      <td>44</td>\n",
              "      <td>0.039959</td>\n",
              "      <td>0</td>\n",
              "      <td>1</td>\n",
              "      <td>1</td>\n",
              "      <td>4</td>\n",
              "      <td>0</td>\n",
              "      <td>1</td>\n",
              "      <td>...</td>\n",
              "      <td>2</td>\n",
              "      <td>2</td>\n",
              "      <td>1</td>\n",
              "      <td>1</td>\n",
              "      <td>1</td>\n",
              "      <td>2</td>\n",
              "      <td>1</td>\n",
              "      <td>0</td>\n",
              "      <td>2</td>\n",
              "      <td>0</td>\n",
              "    </tr>\n",
              "    <tr>\n",
              "      <th>1</th>\n",
              "      <td>44</td>\n",
              "      <td>1</td>\n",
              "      <td>44</td>\n",
              "      <td>-0.085086</td>\n",
              "      <td>0</td>\n",
              "      <td>0</td>\n",
              "      <td>2</td>\n",
              "      <td>5</td>\n",
              "      <td>0</td>\n",
              "      <td>0</td>\n",
              "      <td>...</td>\n",
              "      <td>0</td>\n",
              "      <td>0</td>\n",
              "      <td>0</td>\n",
              "      <td>1</td>\n",
              "      <td>0</td>\n",
              "      <td>0</td>\n",
              "      <td>1</td>\n",
              "      <td>1</td>\n",
              "      <td>0</td>\n",
              "      <td>0</td>\n",
              "    </tr>\n",
              "    <tr>\n",
              "      <th>2</th>\n",
              "      <td>32</td>\n",
              "      <td>1</td>\n",
              "      <td>6</td>\n",
              "      <td>0.045845</td>\n",
              "      <td>0</td>\n",
              "      <td>0</td>\n",
              "      <td>2</td>\n",
              "      <td>4</td>\n",
              "      <td>0</td>\n",
              "      <td>1</td>\n",
              "      <td>...</td>\n",
              "      <td>0</td>\n",
              "      <td>1</td>\n",
              "      <td>1</td>\n",
              "      <td>1</td>\n",
              "      <td>2</td>\n",
              "      <td>2</td>\n",
              "      <td>2</td>\n",
              "      <td>2</td>\n",
              "      <td>1</td>\n",
              "      <td>0</td>\n",
              "    </tr>\n",
              "    <tr>\n",
              "      <th>3</th>\n",
              "      <td>31</td>\n",
              "      <td>1</td>\n",
              "      <td>43</td>\n",
              "      <td>0.147979</td>\n",
              "      <td>1</td>\n",
              "      <td>1</td>\n",
              "      <td>1</td>\n",
              "      <td>2</td>\n",
              "      <td>0</td>\n",
              "      <td>1</td>\n",
              "      <td>...</td>\n",
              "      <td>1</td>\n",
              "      <td>1</td>\n",
              "      <td>2</td>\n",
              "      <td>2</td>\n",
              "      <td>1</td>\n",
              "      <td>0</td>\n",
              "      <td>0</td>\n",
              "      <td>0</td>\n",
              "      <td>1</td>\n",
              "      <td>1</td>\n",
              "    </tr>\n",
              "    <tr>\n",
              "      <th>4</th>\n",
              "      <td>31</td>\n",
              "      <td>1</td>\n",
              "      <td>44</td>\n",
              "      <td>0.180743</td>\n",
              "      <td>0</td>\n",
              "      <td>0</td>\n",
              "      <td>0</td>\n",
              "      <td>1</td>\n",
              "      <td>1</td>\n",
              "      <td>1</td>\n",
              "      <td>...</td>\n",
              "      <td>0</td>\n",
              "      <td>0</td>\n",
              "      <td>1</td>\n",
              "      <td>1</td>\n",
              "      <td>1</td>\n",
              "      <td>2</td>\n",
              "      <td>2</td>\n",
              "      <td>2</td>\n",
              "      <td>0</td>\n",
              "      <td>0</td>\n",
              "    </tr>\n",
              "  </tbody>\n",
              "</table>\n",
              "<p>5 rows × 24 columns</p>\n",
              "</div>\n",
              "    <div class=\"colab-df-buttons\">\n",
              "\n",
              "  <div class=\"colab-df-container\">\n",
              "    <button class=\"colab-df-convert\" onclick=\"convertToInteractive('df-38cb3c33-33a3-4772-a407-012e2681b0ab')\"\n",
              "            title=\"Convert this dataframe to an interactive table.\"\n",
              "            style=\"display:none;\">\n",
              "\n",
              "  <svg xmlns=\"http://www.w3.org/2000/svg\" height=\"24px\" viewBox=\"0 -960 960 960\">\n",
              "    <path d=\"M120-120v-720h720v720H120Zm60-500h600v-160H180v160Zm220 220h160v-160H400v160Zm0 220h160v-160H400v160ZM180-400h160v-160H180v160Zm440 0h160v-160H620v160ZM180-180h160v-160H180v160Zm440 0h160v-160H620v160Z\"/>\n",
              "  </svg>\n",
              "    </button>\n",
              "\n",
              "  <style>\n",
              "    .colab-df-container {\n",
              "      display:flex;\n",
              "      gap: 12px;\n",
              "    }\n",
              "\n",
              "    .colab-df-convert {\n",
              "      background-color: #E8F0FE;\n",
              "      border: none;\n",
              "      border-radius: 50%;\n",
              "      cursor: pointer;\n",
              "      display: none;\n",
              "      fill: #1967D2;\n",
              "      height: 32px;\n",
              "      padding: 0 0 0 0;\n",
              "      width: 32px;\n",
              "    }\n",
              "\n",
              "    .colab-df-convert:hover {\n",
              "      background-color: #E2EBFA;\n",
              "      box-shadow: 0px 1px 2px rgba(60, 64, 67, 0.3), 0px 1px 3px 1px rgba(60, 64, 67, 0.15);\n",
              "      fill: #174EA6;\n",
              "    }\n",
              "\n",
              "    .colab-df-buttons div {\n",
              "      margin-bottom: 4px;\n",
              "    }\n",
              "\n",
              "    [theme=dark] .colab-df-convert {\n",
              "      background-color: #3B4455;\n",
              "      fill: #D2E3FC;\n",
              "    }\n",
              "\n",
              "    [theme=dark] .colab-df-convert:hover {\n",
              "      background-color: #434B5C;\n",
              "      box-shadow: 0px 1px 3px 1px rgba(0, 0, 0, 0.15);\n",
              "      filter: drop-shadow(0px 1px 2px rgba(0, 0, 0, 0.3));\n",
              "      fill: #FFFFFF;\n",
              "    }\n",
              "  </style>\n",
              "\n",
              "    <script>\n",
              "      const buttonEl =\n",
              "        document.querySelector('#df-38cb3c33-33a3-4772-a407-012e2681b0ab button.colab-df-convert');\n",
              "      buttonEl.style.display =\n",
              "        google.colab.kernel.accessAllowed ? 'block' : 'none';\n",
              "\n",
              "      async function convertToInteractive(key) {\n",
              "        const element = document.querySelector('#df-38cb3c33-33a3-4772-a407-012e2681b0ab');\n",
              "        const dataTable =\n",
              "          await google.colab.kernel.invokeFunction('convertToInteractive',\n",
              "                                                    [key], {});\n",
              "        if (!dataTable) return;\n",
              "\n",
              "        const docLinkHtml = 'Like what you see? Visit the ' +\n",
              "          '<a target=\"_blank\" href=https://colab.research.google.com/notebooks/data_table.ipynb>data table notebook</a>'\n",
              "          + ' to learn more about interactive tables.';\n",
              "        element.innerHTML = '';\n",
              "        dataTable['output_type'] = 'display_data';\n",
              "        await google.colab.output.renderOutput(dataTable, element);\n",
              "        const docLink = document.createElement('div');\n",
              "        docLink.innerHTML = docLinkHtml;\n",
              "        element.appendChild(docLink);\n",
              "      }\n",
              "    </script>\n",
              "  </div>\n",
              "\n",
              "\n",
              "<div id=\"df-a2b67f20-a197-4ab3-a0aa-572a1c5992b1\">\n",
              "  <button class=\"colab-df-quickchart\" onclick=\"quickchart('df-a2b67f20-a197-4ab3-a0aa-572a1c5992b1')\"\n",
              "            title=\"Suggest charts\"\n",
              "            style=\"display:none;\">\n",
              "\n",
              "<svg xmlns=\"http://www.w3.org/2000/svg\" height=\"24px\"viewBox=\"0 0 24 24\"\n",
              "     width=\"24px\">\n",
              "    <g>\n",
              "        <path d=\"M19 3H5c-1.1 0-2 .9-2 2v14c0 1.1.9 2 2 2h14c1.1 0 2-.9 2-2V5c0-1.1-.9-2-2-2zM9 17H7v-7h2v7zm4 0h-2V7h2v10zm4 0h-2v-4h2v4z\"/>\n",
              "    </g>\n",
              "</svg>\n",
              "  </button>\n",
              "\n",
              "<style>\n",
              "  .colab-df-quickchart {\n",
              "      --bg-color: #E8F0FE;\n",
              "      --fill-color: #1967D2;\n",
              "      --hover-bg-color: #E2EBFA;\n",
              "      --hover-fill-color: #174EA6;\n",
              "      --disabled-fill-color: #AAA;\n",
              "      --disabled-bg-color: #DDD;\n",
              "  }\n",
              "\n",
              "  [theme=dark] .colab-df-quickchart {\n",
              "      --bg-color: #3B4455;\n",
              "      --fill-color: #D2E3FC;\n",
              "      --hover-bg-color: #434B5C;\n",
              "      --hover-fill-color: #FFFFFF;\n",
              "      --disabled-bg-color: #3B4455;\n",
              "      --disabled-fill-color: #666;\n",
              "  }\n",
              "\n",
              "  .colab-df-quickchart {\n",
              "    background-color: var(--bg-color);\n",
              "    border: none;\n",
              "    border-radius: 50%;\n",
              "    cursor: pointer;\n",
              "    display: none;\n",
              "    fill: var(--fill-color);\n",
              "    height: 32px;\n",
              "    padding: 0;\n",
              "    width: 32px;\n",
              "  }\n",
              "\n",
              "  .colab-df-quickchart:hover {\n",
              "    background-color: var(--hover-bg-color);\n",
              "    box-shadow: 0 1px 2px rgba(60, 64, 67, 0.3), 0 1px 3px 1px rgba(60, 64, 67, 0.15);\n",
              "    fill: var(--button-hover-fill-color);\n",
              "  }\n",
              "\n",
              "  .colab-df-quickchart-complete:disabled,\n",
              "  .colab-df-quickchart-complete:disabled:hover {\n",
              "    background-color: var(--disabled-bg-color);\n",
              "    fill: var(--disabled-fill-color);\n",
              "    box-shadow: none;\n",
              "  }\n",
              "\n",
              "  .colab-df-spinner {\n",
              "    border: 2px solid var(--fill-color);\n",
              "    border-color: transparent;\n",
              "    border-bottom-color: var(--fill-color);\n",
              "    animation:\n",
              "      spin 1s steps(1) infinite;\n",
              "  }\n",
              "\n",
              "  @keyframes spin {\n",
              "    0% {\n",
              "      border-color: transparent;\n",
              "      border-bottom-color: var(--fill-color);\n",
              "      border-left-color: var(--fill-color);\n",
              "    }\n",
              "    20% {\n",
              "      border-color: transparent;\n",
              "      border-left-color: var(--fill-color);\n",
              "      border-top-color: var(--fill-color);\n",
              "    }\n",
              "    30% {\n",
              "      border-color: transparent;\n",
              "      border-left-color: var(--fill-color);\n",
              "      border-top-color: var(--fill-color);\n",
              "      border-right-color: var(--fill-color);\n",
              "    }\n",
              "    40% {\n",
              "      border-color: transparent;\n",
              "      border-right-color: var(--fill-color);\n",
              "      border-top-color: var(--fill-color);\n",
              "    }\n",
              "    60% {\n",
              "      border-color: transparent;\n",
              "      border-right-color: var(--fill-color);\n",
              "    }\n",
              "    80% {\n",
              "      border-color: transparent;\n",
              "      border-right-color: var(--fill-color);\n",
              "      border-bottom-color: var(--fill-color);\n",
              "    }\n",
              "    90% {\n",
              "      border-color: transparent;\n",
              "      border-bottom-color: var(--fill-color);\n",
              "    }\n",
              "  }\n",
              "</style>\n",
              "\n",
              "  <script>\n",
              "    async function quickchart(key) {\n",
              "      const quickchartButtonEl =\n",
              "        document.querySelector('#' + key + ' button');\n",
              "      quickchartButtonEl.disabled = true;  // To prevent multiple clicks.\n",
              "      quickchartButtonEl.classList.add('colab-df-spinner');\n",
              "      try {\n",
              "        const charts = await google.colab.kernel.invokeFunction(\n",
              "            'suggestCharts', [key], {});\n",
              "      } catch (error) {\n",
              "        console.error('Error during call to suggestCharts:', error);\n",
              "      }\n",
              "      quickchartButtonEl.classList.remove('colab-df-spinner');\n",
              "      quickchartButtonEl.classList.add('colab-df-quickchart-complete');\n",
              "    }\n",
              "    (() => {\n",
              "      let quickchartButtonEl =\n",
              "        document.querySelector('#df-a2b67f20-a197-4ab3-a0aa-572a1c5992b1 button');\n",
              "      quickchartButtonEl.style.display =\n",
              "        google.colab.kernel.accessAllowed ? 'block' : 'none';\n",
              "    })();\n",
              "  </script>\n",
              "</div>\n",
              "\n",
              "    </div>\n",
              "  </div>\n"
            ]
          },
          "metadata": {},
          "execution_count": 71
        }
      ],
      "source": [
        "df_clean.head()"
      ]
    },
    {
      "cell_type": "code",
      "execution_count": 72,
      "metadata": {
        "colab": {
          "base_uri": "https://localhost:8080/"
        },
        "id": "58rp1Nik0cFK",
        "outputId": "a71da005-f80e-40d4-ca94-25a28c57d372"
      },
      "outputs": [
        {
          "output_type": "stream",
          "name": "stdout",
          "text": [
            "<class 'pandas.core.frame.DataFrame'>\n",
            "Int64Index: 1247 entries, 0 to 1258\n",
            "Data columns (total 24 columns):\n",
            " #   Column                     Non-Null Count  Dtype \n",
            "---  ------                     --------------  ----- \n",
            " 0   Age                        1247 non-null   int64 \n",
            " 1   Gender                     1247 non-null   int64 \n",
            " 2   Country                    1247 non-null   int64 \n",
            " 3   self_employed              1247 non-null   object\n",
            " 4   family_history             1247 non-null   int64 \n",
            " 5   treatment                  1247 non-null   int64 \n",
            " 6   work_interfere             1247 non-null   object\n",
            " 7   no_employees               1247 non-null   int64 \n",
            " 8   remote_work                1247 non-null   int64 \n",
            " 9   tech_company               1247 non-null   int64 \n",
            " 10  benefits                   1247 non-null   int64 \n",
            " 11  care_options               1247 non-null   int64 \n",
            " 12  wellness_program           1247 non-null   int64 \n",
            " 13  seek_help                  1247 non-null   int64 \n",
            " 14  anonymity                  1247 non-null   int64 \n",
            " 15  leave                      1247 non-null   int64 \n",
            " 16  mental_health_consequence  1247 non-null   int64 \n",
            " 17  phys_health_consequence    1247 non-null   int64 \n",
            " 18  coworkers                  1247 non-null   int64 \n",
            " 19  supervisor                 1247 non-null   int64 \n",
            " 20  mental_health_interview    1247 non-null   int64 \n",
            " 21  phys_health_interview      1247 non-null   int64 \n",
            " 22  mental_vs_physical         1247 non-null   int64 \n",
            " 23  obs_consequence            1247 non-null   int64 \n",
            "dtypes: int64(22), object(2)\n",
            "memory usage: 243.6+ KB\n"
          ]
        }
      ],
      "source": [
        "df_clean.info()"
      ]
    },
    {
      "cell_type": "code",
      "execution_count": 73,
      "metadata": {
        "colab": {
          "base_uri": "https://localhost:8080/",
          "height": 1000
        },
        "id": "73eB8RRZ0cFL",
        "outputId": "93ad4c62-4490-4383-9523-4cd176635ae6"
      },
      "outputs": [
        {
          "output_type": "display_data",
          "data": {
            "text/plain": [
              "<Figure size 640x480 with 1 Axes>"
            ],
            "image/png": "[encoded data removed]"
          },
          "metadata": {}
        },
        {
          "output_type": "display_data",
          "data": {
            "text/plain": [
              "<Figure size 640x480 with 1 Axes>"
            ],
            "image/png": "[encoded data removed]"
          },
          "metadata": {}
        },
        {
          "output_type": "display_data",
          "data": {
            "text/plain": [
              "<Figure size 640x480 with 1 Axes>"
            ],
            "image/png": "[encoded data removed]"
          },
          "metadata": {}
        },
        {
          "output_type": "display_data",
          "data": {
            "text/plain": [
              "<Figure size 1000x500 with 1 Axes>"
            ],
            "image/png": "[encoded data removed]"
          },
          "metadata": {}
        },
        {
          "output_type": "display_data",
          "data": {
            "text/plain": [
              "<Figure size 640x480 with 1 Axes>"
            ],
            "image/png": "[encoded data removed]"
          },
          "metadata": {}
        },
        {
          "output_type": "display_data",
          "data": {
            "text/plain": [
              "<Figure size 640x480 with 1 Axes>"
            ],
            "image/png": "[encoded data removed]"
          },
          "metadata": {}
        },
        {
          "output_type": "display_data",
          "data": {
            "text/plain": [
              "<Figure size 1000x500 with 1 Axes>"
            ],
            "image/png": "[encoded data removed]"
          },
          "metadata": {}
        },
        {
          "output_type": "display_data",
          "data": {
            "text/plain": [
              "<Figure size 640x480 with 1 Axes>"
            ],
            "image/png": "[encoded data removed]"
          },
          "metadata": {}
        },
        {
          "output_type": "display_data",
          "data": {
            "text/plain": [
              "<Figure size 640x480 with 1 Axes>"
            ],
            "image/png": "[encoded data removed]"
          },
          "metadata": {}
        },
        {
          "output_type": "display_data",
          "data": {
            "text/plain": [
              "<Figure size 640x480 with 1 Axes>"
            ],
            "image/png": "[encoded data removed]"
          },
          "metadata": {}
        },
        {
          "output_type": "display_data",
          "data": {
            "text/plain": [
              "<Figure size 640x480 with 1 Axes>"
            ],
            "image/png": "[encoded data removed]"
          },
          "metadata": {}
        },
        {
          "output_type": "display_data",
          "data": {
            "text/plain": [
              "<Figure size 640x480 with 1 Axes>"
            ],
            "image/png": "[encoded data removed]"
          },
          "metadata": {}
        },
        {
          "output_type": "display_data",
          "data": {
            "text/plain": [
              "<Figure size 640x480 with 1 Axes>"
            ],
            "image/png": "[encoded data removed]"
          },
          "metadata": {}
        },
        {
          "output_type": "display_data",
          "data": {
            "text/plain": [
              "<Figure size 640x480 with 1 Axes>"
            ],
            "image/png": "[encoded data removed]"
          },
          "metadata": {}
        },
        {
          "output_type": "display_data",
          "data": {
            "text/plain": [
              "<Figure size 640x480 with 1 Axes>"
            ],
            "image/png": "[encoded data removed]"
          },
          "metadata": {}
        },
        {
          "output_type": "display_data",
          "data": {
            "text/plain": [
              "<Figure size 640x480 with 1 Axes>"
            ],
            "image/png": "[encoded data removed]"
          },
          "metadata": {}
        },
        {
          "output_type": "display_data",
          "data": {
            "text/plain": [
              "<Figure size 640x480 with 1 Axes>"
            ],
            "image/png": "[encoded data removed]"
          },
          "metadata": {}
        },
        {
          "output_type": "display_data",
          "data": {
            "text/plain": [
              "<Figure size 640x480 with 1 Axes>"
            ],
            "image/png": "[encoded data removed]"
          },
          "metadata": {}
        },
        {
          "output_type": "display_data",
          "data": {
            "text/plain": [
              "<Figure size 640x480 with 1 Axes>"
            ],
            "image/png": "[encoded data removed]"
          },
          "metadata": {}
        },
        {
          "output_type": "display_data",
          "data": {
            "text/plain": [
              "<Figure size 640x480 with 1 Axes>"
            ],
            "image/png": "[encoded data removed]"
          },
          "metadata": {}
        },
        {
          "output_type": "display_data",
          "data": {
            "text/plain": [
              "<Figure size 640x480 with 1 Axes>"
            ],
            "image/png": "[encoded data removed]"
          },
          "metadata": {}
        },
        {
          "output_type": "display_data",
          "data": {
            "text/plain": [
              "<Figure size 640x480 with 1 Axes>"
            ],
            "image/png": "[encoded data removed]"
          },
          "metadata": {}
        },
        {
          "output_type": "display_data",
          "data": {
            "text/plain": [
              "<Figure size 640x480 with 1 Axes>"
            ],
            "image/png": "[encoded data removed]"
          },
          "metadata": {}
        },
        {
          "output_type": "display_data",
          "data": {
            "text/plain": [
              "<Figure size 640x480 with 1 Axes>"
            ],
            "image/png": "[encoded data removed]"
          },
          "metadata": {}
        }
      ],
      "source": [
        "import matplotlib.pyplot as plt\n",
        "import seaborn as sns\n",
        "\n",
        "# iterate over each column\n",
        "for col in df_clean.columns:\n",
        "    # check if the column is numerical\n",
        "    if df_clean[col].dtype in ['int64', 'float64']:\n",
        "        # plot a histogram\n",
        "        plt.hist(df_clean[col])  #It was df[col] but the problem there is no df in the notebook\n",
        "        plt.title(col)\n",
        "        plt.show()\n",
        "\n",
        "    # if the column is categorical\n",
        "    else:\n",
        "        # plot a bar chart\n",
        "        fig = plt.figure(figsize=(10, 5))\n",
        "        sns.countplot(x=df_clean[col])\n",
        "        plt.title(col)\n",
        "        plt.show()\n"
      ]
    },
    {
      "cell_type": "code",
      "execution_count": 92,
      "metadata": {
        "colab": {
          "base_uri": "https://localhost:8080/",
          "height": 662
        },
        "id": "WOuHtbBr0cFM",
        "outputId": "be51800d-83e9-42b6-a7e2-d8d388734bc4"
      },
      "outputs": [
        {
          "output_type": "display_data",
          "data": {
            "text/plain": [
              "<Figure size 640x480 with 2 Axes>"
            ],
            "image/png": "[encoded data removed]"
          },
          "metadata": {}
        }
      ],
      "source": [
        "#correlation bewten our data\n",
        "k = 10\n",
        "cols = corrmat.nlargest(k, 'treatment')['treatment'].index\n",
        "cm = np.corrcoef(df_clean[cols].values.T)\n",
        "sns.set(font_scale=1.25)\n",
        "hm = sns.heatmap(cm, cbar=True, annot=True, square=True, fmt='.2f', annot_kws={'size': 10}, yticklabels=cols.values, xticklabels=cols.values)\n",
        "plt.show()"
      ]
    },
    {
      "cell_type": "markdown",
      "metadata": {
        "id": "aG6J04QE0cFN"
      },
      "source": [
        "### Spliltting the dataset"
      ]
    },
    {
      "cell_type": "code",
      "execution_count": 75,
      "metadata": {
        "id": "9PdZ7vrt0cFN"
      },
      "outputs": [],
      "source": [
        "X = df_clean.drop('treatment', axis=1)  # all columns except 'Treatment'\n",
        "y = df_clean['treatment']              # only 'Treatment' column\n",
        "\n",
        "X_train, X_test, y_train, y_test = train_test_split(X, y, test_size=0.3, random_state=42)\n",
        "\n"
      ]
    },
    {
      "cell_type": "markdown",
      "metadata": {
        "id": "_7ijEKAB0cFO"
      },
      "source": [
        "#### Scaling and Normalization"
      ]
    },
    {
      "cell_type": "code",
      "execution_count": 76,
      "metadata": {
        "id": "Yebo_-n80cFP"
      },
      "outputs": [],
      "source": [
        "# Create an instance of the StandardScaler class\n",
        "scaler = StandardScaler()\n",
        "\n",
        "# Fit the scaler on the training data and transform both the training and testing data\n",
        "X_train_scaled = scaler.fit_transform(X_train)\n",
        "X_test_scaled = scaler.transform(X_test)\n"
      ]
    },
    {
      "cell_type": "code",
      "execution_count": 77,
      "metadata": {
        "colab": {
          "base_uri": "https://localhost:8080/"
        },
        "id": "gHZKPCt40cFP",
        "outputId": "4c637dc3-479d-43c1-b563-3bc8f15deefa"
      },
      "outputs": [
        {
          "output_type": "execute_result",
          "data": {
            "text/plain": [
              "array([[-0.86128449,  0.50644264, -1.59071585, ..., -1.00012019,\n",
              "        -0.97061503, -0.41667788],\n",
              "       [ 0.66776249,  0.50644264,  0.54083117, ..., -1.00012019,\n",
              "        -0.97061503, -0.41667788],\n",
              "       [-0.72228022,  0.50644264, -1.21008245, ..., -1.00012019,\n",
              "         0.22991874,  2.3999354 ],\n",
              "       ...,\n",
              "       [-0.44427168,  0.50644264,  0.23632445, ...,  1.75970515,\n",
              "        -0.97061503,  2.3999354 ],\n",
              "       [ 1.50178811,  0.50644264, -0.90557574, ..., -1.00012019,\n",
              "        -0.97061503, -0.41667788],\n",
              "       [ 1.22377957,  0.50644264,  0.46470449, ..., -1.00012019,\n",
              "        -0.97061503, -0.41667788]])"
            ]
          },
          "metadata": {},
          "execution_count": 77
        }
      ],
      "source": [
        "X_train_scaled"
      ]
    },
    {
      "cell_type": "markdown",
      "metadata": {
        "id": "_4HZ5x_t0cFQ"
      },
      "source": [
        "### Model Selection"
      ]
    },
    {
      "cell_type": "markdown",
      "metadata": {
        "id": "whmUm7L_0cFQ"
      },
      "source": [
        "For our binary classification models, we will select the best model from all the classification models below after trying all of them, one by one and check their accuracy.\n",
        "\n",
        "- Logistic Regression is a statistical model that uses a logistic function to model a binary dependent variable. It is a popular algorithm for binary classification problems. ✅\n",
        "\n",
        "- Decision Trees: Decision trees are tree-like models that use a series of decisions to classify data. Decision trees can handle both categorical and continuous data. ✅\n",
        "\n",
        "- Random Forest: Random Forest is an ensemble learning method that combines multiple decision trees to improve the accuracy and stability of the model. It is one of the most popular algorithms for binary classification problems.\n",
        "\n",
        "- Naive Bayes: Naive Bayes is a probabilistic algorithm that calculates the probability of a data point belonging to a particular class based on the conditional probabilities of each feature. ✅\n",
        "\n",
        "- Support Vector Machines (SVM): SVM is a linear classification algorithm that finds the best hyperplane to separate data points into different classes.\n",
        "\n",
        "- Gradient Boosted Trees: Gradient Boosted Trees are another ensemble learning method that combines multiple decision trees to improve model accuracy. Gradient Boosted Trees are especially useful for handling imbalanced datasets. ✅\n",
        "\n",
        "- Neural Networks: Neural networks are a set of algorithms that can learn and recognize patterns in data. They are used for both binary and multi-class classification problems. ✅\n"
      ]
    },
    {
      "cell_type": "markdown",
      "metadata": {
        "id": "2VO_E6H40cFR"
      },
      "source": [
        "1 - Logistic Regression"
      ]
    },
    {
      "cell_type": "code",
      "execution_count": 78,
      "metadata": {
        "colab": {
          "base_uri": "https://localhost:8080/"
        },
        "id": "T4wqxekK0cFR",
        "outputId": "5cc94dce-70b0-470f-a12a-6f89f06adf8c"
      },
      "outputs": [
        {
          "output_type": "stream",
          "name": "stdout",
          "text": [
            "Best hyperparameters: {'C': 0.1, 'penalty': 'l1', 'solver': 'saga'}\n",
            "Best cross-validation score: 0.77\n",
            "Test set accuracy: 0.76\n"
          ]
        }
      ],
      "source": [
        "from sklearn.linear_model import LogisticRegression\n",
        "from sklearn.model_selection import GridSearchCV\n",
        "from sklearn.metrics import accuracy_score\n",
        "\n",
        "# Create an instance of the LogisticRegression class\n",
        "model = LogisticRegression()\n",
        "\n",
        "# Define the hyperparameter grid to search over\n",
        "param_grid = {'penalty': ['l1', 'l2'],\n",
        "              'C': [0.0001, 0.01, 0.1, 1, 10, 100],\n",
        "              'solver': ['liblinear', 'saga']}\n",
        "\n",
        "# Perform a grid search using cross-validation to find the best hyperparameters\n",
        "grid_search = GridSearchCV(model, param_grid=param_grid, cv=5, n_jobs=-1)\n",
        "grid_search.fit(X_train_scaled, y_train)\n",
        "\n",
        "# Fit the model to the training data\n",
        "model.fit(X_train_scaled, y_train)\n",
        "\n",
        "# Print the best hyperparameters\n",
        "print(\"Best hyperparameters: {}\".format(grid_search.best_params_))\n",
        "\n",
        "# Print the best cross-validation score\n",
        "print(\"Best cross-validation score: {:.2f}\".format(grid_search.best_score_))\n",
        "\n",
        "# Print the test set accuracy\n",
        "print(\"Test set accuracy: {:.2f}\".format(grid_search.score(X_test_scaled, y_test)))\n"
      ]
    },
    {
      "cell_type": "code",
      "execution_count": 79,
      "metadata": {
        "colab": {
          "base_uri": "https://localhost:8080/",
          "height": 524
        },
        "id": "sgOSCMql0cFS",
        "outputId": "c9e07adf-b6f6-4f3b-a1df-e0bbbfb9913c"
      },
      "outputs": [
        {
          "output_type": "stream",
          "name": "stdout",
          "text": [
            "AUC: 0.7161089538602102\n"
          ]
        },
        {
          "output_type": "stream",
          "name": "stderr",
          "text": [
            "/usr/local/lib/python3.10/dist-packages/sklearn/base.py:432: UserWarning: X has feature names, but LogisticRegression was fitted without feature names\n",
            "  warnings.warn(\n"
          ]
        },
        {
          "output_type": "display_data",
          "data": {
            "text/plain": [
              "<Figure size 640x480 with 1 Axes>"
            ],
            "image/png": "[encoded data removed]"
          },
          "metadata": {}
        }
      ],
      "source": [
        "from sklearn.metrics import roc_curve, roc_auc_score\n",
        "import matplotlib.pyplot as plt\n",
        "\n",
        "# Calculate probabilities for the testing data\n",
        "y_proba = model.predict_proba(X_test)[:,1]\n",
        "\n",
        "# Calculate ROC curve and AUC on the testing data\n",
        "fpr, tpr, thresholds = roc_curve(y_test, y_proba)\n",
        "auc = roc_auc_score(y_test, y_proba)\n",
        "print(\"AUC:\", auc)\n",
        "\n",
        "# Plot ROC curve\n",
        "plt.plot(fpr, tpr)\n",
        "plt.xlabel(\"False Positive Rate\")\n",
        "plt.ylabel(\"True Positive Rate\")\n",
        "plt.title(\"ROC Curve\")\n",
        "plt.show()"
      ]
    },
    {
      "cell_type": "markdown",
      "metadata": {
        "id": "A1vDwvFG0cFT"
      },
      "source": [
        "2. Random Forest"
      ]
    },
    {
      "cell_type": "code",
      "execution_count": 80,
      "metadata": {
        "colab": {
          "base_uri": "https://localhost:8080/"
        },
        "id": "C450U_os0cFU",
        "outputId": "31de26ef-4e53-4d27-9770-eedef8bda1c5"
      },
      "outputs": [
        {
          "output_type": "stream",
          "name": "stderr",
          "text": [
            "/usr/local/lib/python3.10/dist-packages/sklearn/model_selection/_search.py:305: UserWarning: The total space of parameters 4 is smaller than n_iter=100. Running 4 iterations. For exhaustive searches, use GridSearchCV.\n",
            "  warnings.warn(\n"
          ]
        },
        {
          "output_type": "stream",
          "name": "stdout",
          "text": [
            "Best hyperparameters: {'min_samples_split': 30, 'min_samples_leaf': 4, 'max_features': 24, 'max_depth': 50, 'bootstrap': True}\n",
            "Accuracy: 81.87%\n"
          ]
        }
      ],
      "source": [
        "# Import necessary libraries\n",
        "from sklearn.ensemble import RandomForestClassifier\n",
        "from sklearn.model_selection import RandomizedSearchCV\n",
        "\n",
        "\n",
        "# Create a Random Forest classifier with 500 trees\n",
        "rfc = RandomForestClassifier(n_estimators=500)\n",
        "\n",
        "# Tune hyperparameters using randomized search\n",
        "param_distributions = {\n",
        "    'max_depth': [None, 50],\n",
        "    'max_features': [24],\n",
        "    'min_samples_split': [30],\n",
        "    'min_samples_leaf': [4],\n",
        "    'bootstrap': [True, False]\n",
        "}\n",
        "random_search = RandomizedSearchCV(rfc, param_distributions=param_distributions, n_iter=100, cv=5, random_state=42)\n",
        "random_search.fit(X_train, y_train)\n",
        "print(\"Best hyperparameters:\", random_search.best_params_)\n",
        "\n",
        "# Train the classifier on the best hyperparameters\n",
        "rfc = RandomForestClassifier(**random_search.best_params_)\n",
        "rfc.fit(X_train, y_train)\n",
        "\n",
        "# Make predictions on the testing data\n",
        "y_pred = rfc.predict(X_test)\n",
        "\n",
        "# Evaluate the accuracy of the classifier\n",
        "accuracy = rfc.score(X_test, y_test)\n",
        "print(\"Accuracy: {:.2f}%\".format(accuracy * 100))\n"
      ]
    },
    {
      "cell_type": "code",
      "execution_count": 81,
      "metadata": {
        "colab": {
          "base_uri": "https://localhost:8080/"
        },
        "id": "81INodDR0cFV",
        "outputId": "23a3bf86-c5f8-4774-9cd6-3eade3d23c97"
      },
      "outputs": [
        {
          "output_type": "stream",
          "name": "stdout",
          "text": [
            "              precision    recall  f1-score   support\n",
            "\n",
            "           0       0.89      0.70      0.78       176\n",
            "           1       0.78      0.92      0.84       199\n",
            "\n",
            "    accuracy                           0.82       375\n",
            "   macro avg       0.83      0.81      0.81       375\n",
            "weighted avg       0.83      0.82      0.82       375\n",
            "\n"
          ]
        }
      ],
      "source": [
        "from sklearn.metrics import classification_report\n",
        "\n",
        "# Calculate precision, recall, and f1-score on the testing data\n",
        "report = classification_report(y_test, y_pred)\n",
        "print(report)"
      ]
    },
    {
      "cell_type": "markdown",
      "metadata": {
        "id": "b0y-UEOi0cFV"
      },
      "source": [
        "3. SVM"
      ]
    },
    {
      "cell_type": "code",
      "execution_count": 82,
      "metadata": {
        "colab": {
          "base_uri": "https://localhost:8080/"
        },
        "id": "y-d8aiNY0cFW",
        "outputId": "7d5fade1-1299-42ad-8399-3dfbc8d28bfd"
      },
      "outputs": [
        {
          "output_type": "stream",
          "name": "stdout",
          "text": [
            "Cross-validation scores: [0.75       0.75       0.8045977  0.79310345 0.79310345 0.79310345\n",
            " 0.83908046 0.71264368 0.71264368 0.7816092 ]\n",
            "Average score: 0.7729885057471265\n",
            "Accuracy: 0.7546666666666667\n"
          ]
        }
      ],
      "source": [
        "from sklearn.svm import SVC\n",
        "from sklearn.metrics import accuracy_score\n",
        "from sklearn.model_selection import GridSearchCV, cross_val_score\n",
        "from sklearn.ensemble import BaggingClassifier\n",
        "\n",
        "# perform grid search to find the best hyperparameters\n",
        "parameters = {'kernel': ['linear', 'rbf'], 'C': [1, 10, 100], 'gamma': [0.1, 0.01, 0.001]}\n",
        "svm = SVC()\n",
        "grid_search = GridSearchCV(svm, parameters)\n",
        "grid_search.fit(X_train, y_train)\n",
        "svm = grid_search.best_estimator_\n",
        "\n",
        "# use bagging as an ensemble method\n",
        "bagging = BaggingClassifier(svm, n_estimators=10, random_state=0)\n",
        "bagging.fit(X_train, y_train)\n",
        "\n",
        "# perform cross-validation to evaluate the model\n",
        "cv_scores = cross_val_score(bagging, X_train, y_train, cv=10)\n",
        "print(\"Cross-validation scores:\", cv_scores)\n",
        "print(\"Average score:\", cv_scores.mean())\n",
        "\n",
        "# predict the labels of the test data\n",
        "y_pred = bagging.predict(X_test)\n",
        "\n",
        "# calculate the accuracy of the model\n",
        "accuracy = accuracy_score(y_test, y_pred)\n",
        "\n",
        "# print the accuracy\n",
        "print(\"Accuracy:\", accuracy)\n"
      ]
    },
    {
      "cell_type": "markdown",
      "metadata": {
        "id": "L6mZ1fq_0cFX"
      },
      "source": [
        "4. Neural network"
      ]
    },
    {
      "cell_type": "code",
      "execution_count": 83,
      "metadata": {
        "colab": {
          "base_uri": "https://localhost:8080/"
        },
        "id": "8NAp_MbO0cFX",
        "outputId": "6b192074-87d3-4b07-e495-93dcba2805ac"
      },
      "outputs": [
        {
          "output_type": "stream",
          "name": "stdout",
          "text": [
            "Epoch 1/200\n",
            "28/28 [==============================] - 2s 12ms/step - loss: 0.8581 - accuracy: 0.5138 - val_loss: 0.6655 - val_accuracy: 0.6213\n",
            "Epoch 2/200\n",
            "28/28 [==============================] - 0s 4ms/step - loss: 0.7395 - accuracy: 0.5688 - val_loss: 0.6355 - val_accuracy: 0.6800\n",
            "Epoch 3/200\n",
            "28/28 [==============================] - 0s 6ms/step - loss: 0.7240 - accuracy: 0.5837 - val_loss: 0.6121 - val_accuracy: 0.7120\n",
            "Epoch 4/200\n",
            "28/28 [==============================] - 0s 4ms/step - loss: 0.6670 - accuracy: 0.6112 - val_loss: 0.5907 - val_accuracy: 0.7307\n",
            "Epoch 5/200\n",
            "28/28 [==============================] - 0s 5ms/step - loss: 0.6396 - accuracy: 0.6456 - val_loss: 0.5786 - val_accuracy: 0.7333\n",
            "Epoch 6/200\n",
            "28/28 [==============================] - 0s 4ms/step - loss: 0.6303 - accuracy: 0.6353 - val_loss: 0.5673 - val_accuracy: 0.7307\n",
            "Epoch 7/200\n",
            "28/28 [==============================] - 0s 4ms/step - loss: 0.6055 - accuracy: 0.6628 - val_loss: 0.5583 - val_accuracy: 0.7467\n",
            "Epoch 8/200\n",
            "28/28 [==============================] - 0s 4ms/step - loss: 0.6041 - accuracy: 0.6537 - val_loss: 0.5512 - val_accuracy: 0.7547\n",
            "Epoch 9/200\n",
            "28/28 [==============================] - 0s 4ms/step - loss: 0.5988 - accuracy: 0.6697 - val_loss: 0.5450 - val_accuracy: 0.7573\n",
            "Epoch 10/200\n",
            "28/28 [==============================] - 0s 4ms/step - loss: 0.5693 - accuracy: 0.6972 - val_loss: 0.5361 - val_accuracy: 0.7520\n",
            "Epoch 11/200\n",
            "28/28 [==============================] - 0s 4ms/step - loss: 0.5738 - accuracy: 0.7064 - val_loss: 0.5291 - val_accuracy: 0.7547\n",
            "Epoch 12/200\n",
            "28/28 [==============================] - 0s 4ms/step - loss: 0.5643 - accuracy: 0.7133 - val_loss: 0.5225 - val_accuracy: 0.7520\n",
            "Epoch 13/200\n",
            "28/28 [==============================] - 0s 4ms/step - loss: 0.5442 - accuracy: 0.7305 - val_loss: 0.5185 - val_accuracy: 0.7547\n",
            "Epoch 14/200\n",
            "28/28 [==============================] - 0s 5ms/step - loss: 0.5486 - accuracy: 0.7282 - val_loss: 0.5146 - val_accuracy: 0.7573\n",
            "Epoch 15/200\n",
            "28/28 [==============================] - 0s 4ms/step - loss: 0.5401 - accuracy: 0.7534 - val_loss: 0.5120 - val_accuracy: 0.7520\n",
            "Epoch 16/200\n",
            "28/28 [==============================] - 0s 4ms/step - loss: 0.5465 - accuracy: 0.7351 - val_loss: 0.5105 - val_accuracy: 0.7520\n",
            "Epoch 17/200\n",
            "28/28 [==============================] - 0s 4ms/step - loss: 0.5336 - accuracy: 0.7408 - val_loss: 0.5090 - val_accuracy: 0.7493\n",
            "Epoch 18/200\n",
            "28/28 [==============================] - 0s 4ms/step - loss: 0.5306 - accuracy: 0.7466 - val_loss: 0.5057 - val_accuracy: 0.7520\n",
            "Epoch 19/200\n",
            "28/28 [==============================] - 0s 4ms/step - loss: 0.5229 - accuracy: 0.7580 - val_loss: 0.5030 - val_accuracy: 0.7707\n",
            "Epoch 20/200\n",
            "28/28 [==============================] - 0s 4ms/step - loss: 0.5297 - accuracy: 0.7397 - val_loss: 0.5030 - val_accuracy: 0.7627\n",
            "Epoch 21/200\n",
            "28/28 [==============================] - 0s 4ms/step - loss: 0.5287 - accuracy: 0.7431 - val_loss: 0.5008 - val_accuracy: 0.7733\n",
            "Epoch 22/200\n",
            "28/28 [==============================] - 0s 5ms/step - loss: 0.5295 - accuracy: 0.7385 - val_loss: 0.5003 - val_accuracy: 0.7733\n",
            "Epoch 23/200\n",
            "28/28 [==============================] - 0s 5ms/step - loss: 0.5271 - accuracy: 0.7477 - val_loss: 0.5023 - val_accuracy: 0.7707\n",
            "Epoch 24/200\n",
            "28/28 [==============================] - 0s 4ms/step - loss: 0.5197 - accuracy: 0.7615 - val_loss: 0.5031 - val_accuracy: 0.7760\n",
            "Epoch 25/200\n",
            "28/28 [==============================] - 0s 4ms/step - loss: 0.5111 - accuracy: 0.7603 - val_loss: 0.5008 - val_accuracy: 0.7760\n",
            "Epoch 26/200\n",
            "28/28 [==============================] - 0s 4ms/step - loss: 0.4963 - accuracy: 0.7615 - val_loss: 0.5016 - val_accuracy: 0.7680\n",
            "Epoch 27/200\n",
            "28/28 [==============================] - 0s 4ms/step - loss: 0.4985 - accuracy: 0.7683 - val_loss: 0.4998 - val_accuracy: 0.7707\n",
            "Epoch 28/200\n",
            "28/28 [==============================] - 0s 4ms/step - loss: 0.5122 - accuracy: 0.7798 - val_loss: 0.5011 - val_accuracy: 0.7707\n",
            "Epoch 29/200\n",
            "28/28 [==============================] - 0s 4ms/step - loss: 0.5016 - accuracy: 0.7741 - val_loss: 0.5002 - val_accuracy: 0.7680\n",
            "Epoch 30/200\n",
            "28/28 [==============================] - 0s 4ms/step - loss: 0.5074 - accuracy: 0.7661 - val_loss: 0.4984 - val_accuracy: 0.7733\n",
            "Epoch 31/200\n",
            "28/28 [==============================] - 0s 4ms/step - loss: 0.4999 - accuracy: 0.7718 - val_loss: 0.4995 - val_accuracy: 0.7707\n",
            "Epoch 32/200\n",
            "28/28 [==============================] - 0s 4ms/step - loss: 0.5113 - accuracy: 0.7477 - val_loss: 0.4989 - val_accuracy: 0.7733\n",
            "Epoch 33/200\n",
            "28/28 [==============================] - 0s 4ms/step - loss: 0.4995 - accuracy: 0.7798 - val_loss: 0.4979 - val_accuracy: 0.7733\n",
            "Epoch 34/200\n",
            "28/28 [==============================] - 0s 4ms/step - loss: 0.4991 - accuracy: 0.7729 - val_loss: 0.4985 - val_accuracy: 0.7733\n",
            "Epoch 35/200\n",
            "28/28 [==============================] - 0s 4ms/step - loss: 0.4922 - accuracy: 0.7718 - val_loss: 0.4967 - val_accuracy: 0.7680\n",
            "Epoch 36/200\n",
            "28/28 [==============================] - 0s 4ms/step - loss: 0.5061 - accuracy: 0.7672 - val_loss: 0.4980 - val_accuracy: 0.7680\n",
            "Epoch 37/200\n",
            "28/28 [==============================] - 0s 4ms/step - loss: 0.4708 - accuracy: 0.7821 - val_loss: 0.4994 - val_accuracy: 0.7680\n",
            "Epoch 38/200\n",
            "28/28 [==============================] - 0s 4ms/step - loss: 0.4833 - accuracy: 0.7718 - val_loss: 0.4967 - val_accuracy: 0.7653\n",
            "Epoch 39/200\n",
            "28/28 [==============================] - 0s 4ms/step - loss: 0.4962 - accuracy: 0.7844 - val_loss: 0.4974 - val_accuracy: 0.7680\n",
            "Epoch 40/200\n",
            "28/28 [==============================] - 0s 4ms/step - loss: 0.4786 - accuracy: 0.7913 - val_loss: 0.4957 - val_accuracy: 0.7653\n",
            "Epoch 41/200\n",
            "28/28 [==============================] - 0s 4ms/step - loss: 0.4856 - accuracy: 0.7901 - val_loss: 0.4979 - val_accuracy: 0.7680\n",
            "Epoch 42/200\n",
            "28/28 [==============================] - 0s 4ms/step - loss: 0.4877 - accuracy: 0.7936 - val_loss: 0.4970 - val_accuracy: 0.7600\n",
            "Epoch 43/200\n",
            "28/28 [==============================] - 0s 4ms/step - loss: 0.4865 - accuracy: 0.7706 - val_loss: 0.4961 - val_accuracy: 0.7627\n",
            "Epoch 44/200\n",
            "28/28 [==============================] - 0s 4ms/step - loss: 0.4871 - accuracy: 0.7833 - val_loss: 0.4956 - val_accuracy: 0.7600\n",
            "Epoch 45/200\n",
            "28/28 [==============================] - 0s 4ms/step - loss: 0.4696 - accuracy: 0.7821 - val_loss: 0.4953 - val_accuracy: 0.7627\n",
            "Epoch 46/200\n",
            "28/28 [==============================] - 0s 4ms/step - loss: 0.4650 - accuracy: 0.7844 - val_loss: 0.4946 - val_accuracy: 0.7653\n",
            "Epoch 47/200\n",
            "28/28 [==============================] - 0s 4ms/step - loss: 0.4612 - accuracy: 0.7959 - val_loss: 0.4951 - val_accuracy: 0.7733\n",
            "Epoch 48/200\n",
            "28/28 [==============================] - 0s 4ms/step - loss: 0.4746 - accuracy: 0.7936 - val_loss: 0.4960 - val_accuracy: 0.7760\n",
            "Epoch 49/200\n",
            "28/28 [==============================] - 0s 4ms/step - loss: 0.4669 - accuracy: 0.7959 - val_loss: 0.4964 - val_accuracy: 0.7680\n",
            "Epoch 50/200\n",
            "28/28 [==============================] - 0s 4ms/step - loss: 0.4775 - accuracy: 0.7821 - val_loss: 0.4980 - val_accuracy: 0.7760\n",
            "Epoch 51/200\n",
            "28/28 [==============================] - 0s 4ms/step - loss: 0.4738 - accuracy: 0.7833 - val_loss: 0.4989 - val_accuracy: 0.7733\n",
            "Epoch 52/200\n",
            "28/28 [==============================] - 0s 4ms/step - loss: 0.4620 - accuracy: 0.8039 - val_loss: 0.4985 - val_accuracy: 0.7733\n",
            "Epoch 53/200\n",
            "28/28 [==============================] - 0s 4ms/step - loss: 0.4765 - accuracy: 0.7936 - val_loss: 0.4981 - val_accuracy: 0.7813\n",
            "Epoch 54/200\n",
            "28/28 [==============================] - 0s 4ms/step - loss: 0.4684 - accuracy: 0.7821 - val_loss: 0.4977 - val_accuracy: 0.7787\n",
            "Epoch 55/200\n",
            "28/28 [==============================] - 0s 4ms/step - loss: 0.4747 - accuracy: 0.7867 - val_loss: 0.4969 - val_accuracy: 0.7760\n",
            "Epoch 56/200\n",
            "28/28 [==============================] - 0s 4ms/step - loss: 0.4830 - accuracy: 0.7924 - val_loss: 0.4982 - val_accuracy: 0.7707\n",
            "Epoch 57/200\n",
            "28/28 [==============================] - 0s 4ms/step - loss: 0.4731 - accuracy: 0.7844 - val_loss: 0.4976 - val_accuracy: 0.7707\n",
            "Epoch 58/200\n",
            "28/28 [==============================] - 0s 4ms/step - loss: 0.4753 - accuracy: 0.7833 - val_loss: 0.4984 - val_accuracy: 0.7707\n",
            "Epoch 59/200\n",
            "28/28 [==============================] - 0s 4ms/step - loss: 0.4541 - accuracy: 0.7970 - val_loss: 0.4992 - val_accuracy: 0.7813\n",
            "Epoch 60/200\n",
            "28/28 [==============================] - 0s 4ms/step - loss: 0.4467 - accuracy: 0.8050 - val_loss: 0.4973 - val_accuracy: 0.7760\n",
            "Epoch 61/200\n",
            "28/28 [==============================] - 0s 4ms/step - loss: 0.4511 - accuracy: 0.7993 - val_loss: 0.4981 - val_accuracy: 0.7733\n",
            "Epoch 62/200\n",
            "28/28 [==============================] - 0s 4ms/step - loss: 0.4702 - accuracy: 0.7993 - val_loss: 0.4989 - val_accuracy: 0.7707\n",
            "Epoch 63/200\n",
            "28/28 [==============================] - 0s 4ms/step - loss: 0.4643 - accuracy: 0.8016 - val_loss: 0.5002 - val_accuracy: 0.7680\n",
            "Epoch 64/200\n",
            "28/28 [==============================] - 0s 4ms/step - loss: 0.4502 - accuracy: 0.7787 - val_loss: 0.5007 - val_accuracy: 0.7733\n",
            "Epoch 65/200\n",
            "28/28 [==============================] - 0s 4ms/step - loss: 0.4514 - accuracy: 0.7856 - val_loss: 0.5001 - val_accuracy: 0.7653\n",
            "Epoch 66/200\n",
            "28/28 [==============================] - 0s 4ms/step - loss: 0.4509 - accuracy: 0.8039 - val_loss: 0.5005 - val_accuracy: 0.7680\n",
            "Epoch 67/200\n",
            "28/28 [==============================] - 0s 4ms/step - loss: 0.4372 - accuracy: 0.8039 - val_loss: 0.5010 - val_accuracy: 0.7733\n",
            "Epoch 68/200\n",
            "28/28 [==============================] - 0s 4ms/step - loss: 0.4723 - accuracy: 0.8005 - val_loss: 0.5006 - val_accuracy: 0.7707\n",
            "Epoch 69/200\n",
            "28/28 [==============================] - 0s 7ms/step - loss: 0.4314 - accuracy: 0.8211 - val_loss: 0.5029 - val_accuracy: 0.7840\n",
            "Epoch 70/200\n",
            "28/28 [==============================] - 0s 5ms/step - loss: 0.4380 - accuracy: 0.8005 - val_loss: 0.5013 - val_accuracy: 0.7787\n",
            "Epoch 71/200\n",
            "28/28 [==============================] - 0s 7ms/step - loss: 0.4486 - accuracy: 0.8108 - val_loss: 0.5016 - val_accuracy: 0.7733\n",
            "Epoch 72/200\n",
            "28/28 [==============================] - 0s 6ms/step - loss: 0.4358 - accuracy: 0.8073 - val_loss: 0.5011 - val_accuracy: 0.7653\n",
            "Epoch 73/200\n",
            "28/28 [==============================] - 0s 7ms/step - loss: 0.4563 - accuracy: 0.7982 - val_loss: 0.5009 - val_accuracy: 0.7707\n",
            "Epoch 74/200\n",
            "28/28 [==============================] - 0s 5ms/step - loss: 0.4667 - accuracy: 0.7982 - val_loss: 0.5014 - val_accuracy: 0.7787\n",
            "Epoch 75/200\n",
            "28/28 [==============================] - 0s 6ms/step - loss: 0.4296 - accuracy: 0.8177 - val_loss: 0.5026 - val_accuracy: 0.7760\n",
            "Epoch 76/200\n",
            "28/28 [==============================] - 0s 7ms/step - loss: 0.4427 - accuracy: 0.8039 - val_loss: 0.5034 - val_accuracy: 0.7760\n",
            "Epoch 77/200\n",
            "28/28 [==============================] - 0s 7ms/step - loss: 0.4390 - accuracy: 0.8154 - val_loss: 0.5029 - val_accuracy: 0.7707\n",
            "Epoch 78/200\n",
            "28/28 [==============================] - 0s 8ms/step - loss: 0.4398 - accuracy: 0.8085 - val_loss: 0.5023 - val_accuracy: 0.7787\n",
            "Epoch 79/200\n",
            "28/28 [==============================] - 0s 7ms/step - loss: 0.4458 - accuracy: 0.8005 - val_loss: 0.5016 - val_accuracy: 0.7707\n",
            "Epoch 80/200\n",
            "28/28 [==============================] - 0s 7ms/step - loss: 0.4466 - accuracy: 0.8062 - val_loss: 0.5031 - val_accuracy: 0.7707\n",
            "Epoch 81/200\n",
            "28/28 [==============================] - 0s 5ms/step - loss: 0.4413 - accuracy: 0.8016 - val_loss: 0.5054 - val_accuracy: 0.7787\n",
            "Epoch 82/200\n",
            "28/28 [==============================] - 0s 4ms/step - loss: 0.4354 - accuracy: 0.7993 - val_loss: 0.5051 - val_accuracy: 0.7787\n",
            "Epoch 83/200\n",
            "28/28 [==============================] - 0s 4ms/step - loss: 0.4348 - accuracy: 0.8222 - val_loss: 0.5046 - val_accuracy: 0.7760\n",
            "Epoch 84/200\n",
            "28/28 [==============================] - 0s 4ms/step - loss: 0.4422 - accuracy: 0.8050 - val_loss: 0.5045 - val_accuracy: 0.7733\n",
            "Epoch 85/200\n",
            "28/28 [==============================] - 0s 5ms/step - loss: 0.4605 - accuracy: 0.8096 - val_loss: 0.5039 - val_accuracy: 0.7787\n",
            "Epoch 86/200\n",
            "28/28 [==============================] - 0s 4ms/step - loss: 0.4602 - accuracy: 0.7970 - val_loss: 0.5026 - val_accuracy: 0.7733\n",
            "Epoch 87/200\n",
            "28/28 [==============================] - 0s 4ms/step - loss: 0.4206 - accuracy: 0.8154 - val_loss: 0.5024 - val_accuracy: 0.7653\n",
            "Epoch 88/200\n",
            "28/28 [==============================] - 0s 4ms/step - loss: 0.4453 - accuracy: 0.7982 - val_loss: 0.5051 - val_accuracy: 0.7760\n",
            "Epoch 89/200\n",
            "28/28 [==============================] - 0s 4ms/step - loss: 0.4331 - accuracy: 0.7959 - val_loss: 0.5078 - val_accuracy: 0.7733\n",
            "Epoch 90/200\n",
            "28/28 [==============================] - 0s 4ms/step - loss: 0.4501 - accuracy: 0.8073 - val_loss: 0.5065 - val_accuracy: 0.7733\n",
            "Epoch 91/200\n",
            "28/28 [==============================] - 0s 4ms/step - loss: 0.4374 - accuracy: 0.8165 - val_loss: 0.5059 - val_accuracy: 0.7707\n",
            "Epoch 92/200\n",
            "28/28 [==============================] - 0s 4ms/step - loss: 0.4424 - accuracy: 0.8108 - val_loss: 0.5038 - val_accuracy: 0.7707\n",
            "Epoch 93/200\n",
            "28/28 [==============================] - 0s 6ms/step - loss: 0.4181 - accuracy: 0.8177 - val_loss: 0.5049 - val_accuracy: 0.7760\n",
            "Epoch 94/200\n",
            "28/28 [==============================] - 0s 4ms/step - loss: 0.4164 - accuracy: 0.8245 - val_loss: 0.5070 - val_accuracy: 0.7760\n",
            "Epoch 95/200\n",
            "28/28 [==============================] - 0s 4ms/step - loss: 0.4147 - accuracy: 0.8222 - val_loss: 0.5088 - val_accuracy: 0.7760\n",
            "Epoch 96/200\n",
            "28/28 [==============================] - 0s 4ms/step - loss: 0.4241 - accuracy: 0.8222 - val_loss: 0.5107 - val_accuracy: 0.7733\n",
            "Epoch 97/200\n",
            "28/28 [==============================] - 0s 4ms/step - loss: 0.4415 - accuracy: 0.8073 - val_loss: 0.5103 - val_accuracy: 0.7760\n",
            "Epoch 98/200\n",
            "28/28 [==============================] - 0s 4ms/step - loss: 0.4091 - accuracy: 0.8200 - val_loss: 0.5114 - val_accuracy: 0.7760\n",
            "Epoch 99/200\n",
            "28/28 [==============================] - 0s 4ms/step - loss: 0.4118 - accuracy: 0.8096 - val_loss: 0.5107 - val_accuracy: 0.7760\n",
            "Epoch 100/200\n",
            "28/28 [==============================] - 0s 4ms/step - loss: 0.4391 - accuracy: 0.8142 - val_loss: 0.5114 - val_accuracy: 0.7733\n",
            "Epoch 101/200\n",
            "28/28 [==============================] - 0s 4ms/step - loss: 0.4380 - accuracy: 0.8016 - val_loss: 0.5131 - val_accuracy: 0.7760\n",
            "Epoch 102/200\n",
            "28/28 [==============================] - 0s 5ms/step - loss: 0.4167 - accuracy: 0.8108 - val_loss: 0.5096 - val_accuracy: 0.7707\n",
            "Epoch 103/200\n",
            "28/28 [==============================] - 0s 4ms/step - loss: 0.4422 - accuracy: 0.8073 - val_loss: 0.5111 - val_accuracy: 0.7707\n",
            "Epoch 104/200\n",
            "28/28 [==============================] - 0s 4ms/step - loss: 0.4396 - accuracy: 0.8096 - val_loss: 0.5121 - val_accuracy: 0.7733\n",
            "Epoch 105/200\n",
            "28/28 [==============================] - 0s 4ms/step - loss: 0.4061 - accuracy: 0.8257 - val_loss: 0.5142 - val_accuracy: 0.7760\n",
            "Epoch 106/200\n",
            "28/28 [==============================] - 0s 4ms/step - loss: 0.4157 - accuracy: 0.8050 - val_loss: 0.5158 - val_accuracy: 0.7760\n",
            "Epoch 107/200\n",
            "28/28 [==============================] - 0s 4ms/step - loss: 0.4224 - accuracy: 0.8142 - val_loss: 0.5170 - val_accuracy: 0.7787\n",
            "Epoch 108/200\n",
            "28/28 [==============================] - 0s 4ms/step - loss: 0.4018 - accuracy: 0.8177 - val_loss: 0.5178 - val_accuracy: 0.7787\n",
            "Epoch 109/200\n",
            "28/28 [==============================] - 0s 4ms/step - loss: 0.4129 - accuracy: 0.8096 - val_loss: 0.5197 - val_accuracy: 0.7813\n",
            "Epoch 110/200\n",
            "28/28 [==============================] - 0s 4ms/step - loss: 0.3958 - accuracy: 0.8245 - val_loss: 0.5197 - val_accuracy: 0.7813\n",
            "Epoch 111/200\n",
            "28/28 [==============================] - 0s 4ms/step - loss: 0.4232 - accuracy: 0.8268 - val_loss: 0.5186 - val_accuracy: 0.7787\n",
            "Epoch 112/200\n",
            "28/28 [==============================] - 0s 4ms/step - loss: 0.4352 - accuracy: 0.8165 - val_loss: 0.5167 - val_accuracy: 0.7787\n",
            "Epoch 113/200\n",
            "28/28 [==============================] - 0s 4ms/step - loss: 0.3938 - accuracy: 0.8291 - val_loss: 0.5175 - val_accuracy: 0.7760\n",
            "Epoch 114/200\n",
            "28/28 [==============================] - 0s 4ms/step - loss: 0.4055 - accuracy: 0.8222 - val_loss: 0.5204 - val_accuracy: 0.7760\n",
            "Epoch 115/200\n",
            "28/28 [==============================] - 0s 4ms/step - loss: 0.4410 - accuracy: 0.8245 - val_loss: 0.5182 - val_accuracy: 0.7760\n",
            "Epoch 116/200\n",
            "28/28 [==============================] - 0s 4ms/step - loss: 0.4108 - accuracy: 0.8154 - val_loss: 0.5190 - val_accuracy: 0.7733\n",
            "Epoch 117/200\n",
            "28/28 [==============================] - 0s 4ms/step - loss: 0.4263 - accuracy: 0.8200 - val_loss: 0.5210 - val_accuracy: 0.7787\n",
            "Epoch 118/200\n",
            "28/28 [==============================] - 0s 4ms/step - loss: 0.4424 - accuracy: 0.8177 - val_loss: 0.5193 - val_accuracy: 0.7813\n",
            "Epoch 119/200\n",
            "28/28 [==============================] - 0s 5ms/step - loss: 0.3943 - accuracy: 0.8303 - val_loss: 0.5194 - val_accuracy: 0.7813\n",
            "Epoch 120/200\n",
            "28/28 [==============================] - 0s 4ms/step - loss: 0.4079 - accuracy: 0.8280 - val_loss: 0.5192 - val_accuracy: 0.7787\n",
            "Epoch 121/200\n",
            "28/28 [==============================] - 0s 4ms/step - loss: 0.3998 - accuracy: 0.8154 - val_loss: 0.5201 - val_accuracy: 0.7787\n",
            "Epoch 122/200\n",
            "28/28 [==============================] - 0s 4ms/step - loss: 0.4161 - accuracy: 0.8142 - val_loss: 0.5239 - val_accuracy: 0.7787\n",
            "Epoch 123/200\n",
            "28/28 [==============================] - 0s 4ms/step - loss: 0.4186 - accuracy: 0.8131 - val_loss: 0.5242 - val_accuracy: 0.7733\n",
            "Epoch 124/200\n",
            "28/28 [==============================] - 0s 4ms/step - loss: 0.4210 - accuracy: 0.8142 - val_loss: 0.5220 - val_accuracy: 0.7680\n",
            "Epoch 125/200\n",
            "28/28 [==============================] - 0s 4ms/step - loss: 0.4020 - accuracy: 0.8211 - val_loss: 0.5219 - val_accuracy: 0.7733\n",
            "Epoch 126/200\n",
            "28/28 [==============================] - 0s 4ms/step - loss: 0.3996 - accuracy: 0.8200 - val_loss: 0.5267 - val_accuracy: 0.7787\n",
            "Epoch 127/200\n",
            "28/28 [==============================] - 0s 4ms/step - loss: 0.4219 - accuracy: 0.8142 - val_loss: 0.5232 - val_accuracy: 0.7787\n",
            "Epoch 128/200\n",
            "28/28 [==============================] - 0s 4ms/step - loss: 0.4093 - accuracy: 0.8119 - val_loss: 0.5237 - val_accuracy: 0.7787\n",
            "Epoch 129/200\n",
            "28/28 [==============================] - 0s 6ms/step - loss: 0.4035 - accuracy: 0.8142 - val_loss: 0.5277 - val_accuracy: 0.7787\n",
            "Epoch 130/200\n",
            "28/28 [==============================] - 0s 7ms/step - loss: 0.4009 - accuracy: 0.8222 - val_loss: 0.5290 - val_accuracy: 0.7787\n",
            "Epoch 131/200\n",
            "28/28 [==============================] - 0s 5ms/step - loss: 0.4027 - accuracy: 0.8268 - val_loss: 0.5269 - val_accuracy: 0.7733\n",
            "Epoch 132/200\n",
            "28/28 [==============================] - 0s 4ms/step - loss: 0.4140 - accuracy: 0.8188 - val_loss: 0.5232 - val_accuracy: 0.7707\n",
            "Epoch 133/200\n",
            "28/28 [==============================] - 0s 4ms/step - loss: 0.3946 - accuracy: 0.8406 - val_loss: 0.5242 - val_accuracy: 0.7760\n",
            "Epoch 134/200\n",
            "28/28 [==============================] - 0s 4ms/step - loss: 0.4033 - accuracy: 0.8303 - val_loss: 0.5256 - val_accuracy: 0.7787\n",
            "Epoch 135/200\n",
            "28/28 [==============================] - 0s 5ms/step - loss: 0.4107 - accuracy: 0.8314 - val_loss: 0.5251 - val_accuracy: 0.7787\n",
            "Epoch 136/200\n",
            "28/28 [==============================] - 0s 4ms/step - loss: 0.3895 - accuracy: 0.8257 - val_loss: 0.5287 - val_accuracy: 0.7760\n",
            "Epoch 137/200\n",
            "28/28 [==============================] - 0s 5ms/step - loss: 0.3947 - accuracy: 0.8234 - val_loss: 0.5294 - val_accuracy: 0.7760\n",
            "Epoch 138/200\n",
            "28/28 [==============================] - 0s 4ms/step - loss: 0.3991 - accuracy: 0.8406 - val_loss: 0.5303 - val_accuracy: 0.7733\n",
            "Epoch 139/200\n",
            "28/28 [==============================] - 0s 4ms/step - loss: 0.3935 - accuracy: 0.8291 - val_loss: 0.5315 - val_accuracy: 0.7733\n",
            "Epoch 140/200\n",
            "28/28 [==============================] - 0s 4ms/step - loss: 0.4038 - accuracy: 0.8268 - val_loss: 0.5268 - val_accuracy: 0.7707\n",
            "Epoch 141/200\n",
            "28/28 [==============================] - 0s 4ms/step - loss: 0.3708 - accuracy: 0.8452 - val_loss: 0.5325 - val_accuracy: 0.7760\n",
            "Epoch 142/200\n",
            "28/28 [==============================] - 0s 4ms/step - loss: 0.3997 - accuracy: 0.8303 - val_loss: 0.5309 - val_accuracy: 0.7760\n",
            "Epoch 143/200\n",
            "28/28 [==============================] - 0s 4ms/step - loss: 0.3988 - accuracy: 0.8131 - val_loss: 0.5301 - val_accuracy: 0.7787\n",
            "Epoch 144/200\n",
            "28/28 [==============================] - 0s 4ms/step - loss: 0.3999 - accuracy: 0.8417 - val_loss: 0.5291 - val_accuracy: 0.7733\n",
            "Epoch 145/200\n",
            "28/28 [==============================] - 0s 4ms/step - loss: 0.4210 - accuracy: 0.8131 - val_loss: 0.5273 - val_accuracy: 0.7840\n",
            "Epoch 146/200\n",
            "28/28 [==============================] - 0s 4ms/step - loss: 0.3899 - accuracy: 0.8257 - val_loss: 0.5298 - val_accuracy: 0.7760\n",
            "Epoch 147/200\n",
            "28/28 [==============================] - 0s 4ms/step - loss: 0.4003 - accuracy: 0.8177 - val_loss: 0.5272 - val_accuracy: 0.7760\n",
            "Epoch 148/200\n",
            "28/28 [==============================] - 0s 4ms/step - loss: 0.3959 - accuracy: 0.8245 - val_loss: 0.5328 - val_accuracy: 0.7787\n",
            "Epoch 149/200\n",
            "28/28 [==============================] - 0s 4ms/step - loss: 0.3888 - accuracy: 0.8142 - val_loss: 0.5324 - val_accuracy: 0.7760\n",
            "Epoch 150/200\n",
            "28/28 [==============================] - 0s 4ms/step - loss: 0.3894 - accuracy: 0.8498 - val_loss: 0.5352 - val_accuracy: 0.7787\n",
            "Epoch 151/200\n",
            "28/28 [==============================] - 0s 5ms/step - loss: 0.3889 - accuracy: 0.8291 - val_loss: 0.5320 - val_accuracy: 0.7787\n",
            "Epoch 152/200\n",
            "28/28 [==============================] - 0s 4ms/step - loss: 0.3760 - accuracy: 0.8303 - val_loss: 0.5368 - val_accuracy: 0.7813\n",
            "Epoch 153/200\n",
            "28/28 [==============================] - 0s 4ms/step - loss: 0.3786 - accuracy: 0.8326 - val_loss: 0.5361 - val_accuracy: 0.7840\n",
            "Epoch 154/200\n",
            "28/28 [==============================] - 0s 4ms/step - loss: 0.3725 - accuracy: 0.8406 - val_loss: 0.5401 - val_accuracy: 0.7840\n",
            "Epoch 155/200\n",
            "28/28 [==============================] - 0s 4ms/step - loss: 0.3901 - accuracy: 0.8188 - val_loss: 0.5379 - val_accuracy: 0.7787\n",
            "Epoch 156/200\n",
            "28/28 [==============================] - 0s 4ms/step - loss: 0.3848 - accuracy: 0.8291 - val_loss: 0.5383 - val_accuracy: 0.7760\n",
            "Epoch 157/200\n",
            "28/28 [==============================] - 0s 4ms/step - loss: 0.3662 - accuracy: 0.8372 - val_loss: 0.5479 - val_accuracy: 0.7733\n",
            "Epoch 158/200\n",
            "28/28 [==============================] - 0s 4ms/step - loss: 0.4008 - accuracy: 0.8177 - val_loss: 0.5486 - val_accuracy: 0.7733\n",
            "Epoch 159/200\n",
            "28/28 [==============================] - 0s 4ms/step - loss: 0.3908 - accuracy: 0.8337 - val_loss: 0.5478 - val_accuracy: 0.7787\n",
            "Epoch 160/200\n",
            "28/28 [==============================] - 0s 4ms/step - loss: 0.3653 - accuracy: 0.8475 - val_loss: 0.5460 - val_accuracy: 0.7760\n",
            "Epoch 161/200\n",
            "28/28 [==============================] - 0s 4ms/step - loss: 0.3749 - accuracy: 0.8544 - val_loss: 0.5464 - val_accuracy: 0.7707\n",
            "Epoch 162/200\n",
            "28/28 [==============================] - 0s 7ms/step - loss: 0.3772 - accuracy: 0.8417 - val_loss: 0.5500 - val_accuracy: 0.7760\n",
            "Epoch 163/200\n",
            "28/28 [==============================] - 0s 8ms/step - loss: 0.3911 - accuracy: 0.8234 - val_loss: 0.5470 - val_accuracy: 0.7733\n",
            "Epoch 164/200\n",
            "28/28 [==============================] - 0s 6ms/step - loss: 0.3585 - accuracy: 0.8429 - val_loss: 0.5532 - val_accuracy: 0.7760\n",
            "Epoch 165/200\n",
            "28/28 [==============================] - 0s 7ms/step - loss: 0.3955 - accuracy: 0.8188 - val_loss: 0.5498 - val_accuracy: 0.7653\n",
            "Epoch 166/200\n",
            "28/28 [==============================] - 0s 7ms/step - loss: 0.3584 - accuracy: 0.8360 - val_loss: 0.5501 - val_accuracy: 0.7707\n",
            "Epoch 167/200\n",
            "28/28 [==============================] - 0s 8ms/step - loss: 0.3793 - accuracy: 0.8394 - val_loss: 0.5488 - val_accuracy: 0.7733\n",
            "Epoch 168/200\n",
            "28/28 [==============================] - 0s 6ms/step - loss: 0.3829 - accuracy: 0.8177 - val_loss: 0.5439 - val_accuracy: 0.7733\n",
            "Epoch 169/200\n",
            "28/28 [==============================] - 0s 7ms/step - loss: 0.3688 - accuracy: 0.8417 - val_loss: 0.5475 - val_accuracy: 0.7787\n",
            "Epoch 170/200\n",
            "28/28 [==============================] - 0s 7ms/step - loss: 0.3675 - accuracy: 0.8314 - val_loss: 0.5486 - val_accuracy: 0.7893\n",
            "Epoch 171/200\n",
            "28/28 [==============================] - 0s 8ms/step - loss: 0.3726 - accuracy: 0.8337 - val_loss: 0.5472 - val_accuracy: 0.7893\n",
            "Epoch 172/200\n",
            "28/28 [==============================] - 0s 6ms/step - loss: 0.3682 - accuracy: 0.8200 - val_loss: 0.5501 - val_accuracy: 0.7787\n",
            "Epoch 173/200\n",
            "28/28 [==============================] - 0s 7ms/step - loss: 0.3772 - accuracy: 0.8280 - val_loss: 0.5498 - val_accuracy: 0.7760\n",
            "Epoch 174/200\n",
            "28/28 [==============================] - 0s 5ms/step - loss: 0.3840 - accuracy: 0.8394 - val_loss: 0.5522 - val_accuracy: 0.7813\n",
            "Epoch 175/200\n",
            "28/28 [==============================] - 0s 4ms/step - loss: 0.3642 - accuracy: 0.8452 - val_loss: 0.5555 - val_accuracy: 0.7840\n",
            "Epoch 176/200\n",
            "28/28 [==============================] - 0s 4ms/step - loss: 0.3756 - accuracy: 0.8291 - val_loss: 0.5551 - val_accuracy: 0.7760\n",
            "Epoch 177/200\n",
            "28/28 [==============================] - 0s 4ms/step - loss: 0.3668 - accuracy: 0.8291 - val_loss: 0.5573 - val_accuracy: 0.7787\n",
            "Epoch 178/200\n",
            "28/28 [==============================] - 0s 4ms/step - loss: 0.3862 - accuracy: 0.8222 - val_loss: 0.5552 - val_accuracy: 0.7733\n",
            "Epoch 179/200\n",
            "28/28 [==============================] - 0s 4ms/step - loss: 0.3669 - accuracy: 0.8394 - val_loss: 0.5559 - val_accuracy: 0.7733\n",
            "Epoch 180/200\n",
            "28/28 [==============================] - 0s 4ms/step - loss: 0.3731 - accuracy: 0.8417 - val_loss: 0.5559 - val_accuracy: 0.7787\n",
            "Epoch 181/200\n",
            "28/28 [==============================] - 0s 4ms/step - loss: 0.3659 - accuracy: 0.8417 - val_loss: 0.5587 - val_accuracy: 0.7787\n",
            "Epoch 182/200\n",
            "28/28 [==============================] - 0s 4ms/step - loss: 0.3876 - accuracy: 0.8268 - val_loss: 0.5526 - val_accuracy: 0.7680\n",
            "Epoch 183/200\n",
            "28/28 [==============================] - 0s 4ms/step - loss: 0.3572 - accuracy: 0.8291 - val_loss: 0.5531 - val_accuracy: 0.7707\n",
            "Epoch 184/200\n",
            "28/28 [==============================] - 0s 4ms/step - loss: 0.3737 - accuracy: 0.8222 - val_loss: 0.5525 - val_accuracy: 0.7680\n",
            "Epoch 185/200\n",
            "28/28 [==============================] - 0s 4ms/step - loss: 0.3558 - accuracy: 0.8372 - val_loss: 0.5535 - val_accuracy: 0.7707\n",
            "Epoch 186/200\n",
            "28/28 [==============================] - 0s 6ms/step - loss: 0.3602 - accuracy: 0.8349 - val_loss: 0.5555 - val_accuracy: 0.7653\n",
            "Epoch 187/200\n",
            "28/28 [==============================] - 0s 4ms/step - loss: 0.3744 - accuracy: 0.8383 - val_loss: 0.5619 - val_accuracy: 0.7680\n",
            "Epoch 188/200\n",
            "28/28 [==============================] - 0s 6ms/step - loss: 0.3611 - accuracy: 0.8406 - val_loss: 0.5595 - val_accuracy: 0.7707\n",
            "Epoch 189/200\n",
            "28/28 [==============================] - 0s 4ms/step - loss: 0.3830 - accuracy: 0.8200 - val_loss: 0.5611 - val_accuracy: 0.7733\n",
            "Epoch 190/200\n",
            "28/28 [==============================] - 0s 4ms/step - loss: 0.3521 - accuracy: 0.8383 - val_loss: 0.5615 - val_accuracy: 0.7627\n",
            "Epoch 191/200\n",
            "28/28 [==============================] - 0s 4ms/step - loss: 0.3444 - accuracy: 0.8463 - val_loss: 0.5661 - val_accuracy: 0.7653\n",
            "Epoch 192/200\n",
            "28/28 [==============================] - 0s 4ms/step - loss: 0.3500 - accuracy: 0.8601 - val_loss: 0.5698 - val_accuracy: 0.7707\n",
            "Epoch 193/200\n",
            "28/28 [==============================] - 0s 4ms/step - loss: 0.3640 - accuracy: 0.8303 - val_loss: 0.5665 - val_accuracy: 0.7733\n",
            "Epoch 194/200\n",
            "28/28 [==============================] - 0s 5ms/step - loss: 0.3586 - accuracy: 0.8475 - val_loss: 0.5645 - val_accuracy: 0.7733\n",
            "Epoch 195/200\n",
            "28/28 [==============================] - 0s 4ms/step - loss: 0.3702 - accuracy: 0.8394 - val_loss: 0.5660 - val_accuracy: 0.7760\n",
            "Epoch 196/200\n",
            "28/28 [==============================] - 0s 4ms/step - loss: 0.3718 - accuracy: 0.8383 - val_loss: 0.5599 - val_accuracy: 0.7707\n",
            "Epoch 197/200\n",
            "28/28 [==============================] - 0s 4ms/step - loss: 0.3811 - accuracy: 0.8406 - val_loss: 0.5615 - val_accuracy: 0.7707\n",
            "Epoch 198/200\n",
            "28/28 [==============================] - 0s 4ms/step - loss: 0.3620 - accuracy: 0.8509 - val_loss: 0.5616 - val_accuracy: 0.7760\n",
            "Epoch 199/200\n",
            "28/28 [==============================] - 0s 4ms/step - loss: 0.3774 - accuracy: 0.8417 - val_loss: 0.5569 - val_accuracy: 0.7707\n",
            "Epoch 200/200\n",
            "28/28 [==============================] - 0s 4ms/step - loss: 0.3599 - accuracy: 0.8394 - val_loss: 0.5571 - val_accuracy: 0.7840\n"
          ]
        },
        {
          "output_type": "execute_result",
          "data": {
            "text/plain": [
              "<keras.src.callbacks.History at 0x7a6b8c952860>"
            ]
          },
          "metadata": {},
          "execution_count": 83
        }
      ],
      "source": [
        "from tensorflow.keras.models import Sequential\n",
        "from tensorflow.keras.layers import Dense, Dropout\n",
        "from tensorflow.keras.callbacks import EarlyStopping\n",
        "from tensorflow.keras.optimizers import Adam\n",
        "from sklearn.preprocessing import StandardScaler\n",
        "from sklearn.metrics import accuracy_score\n",
        "\n",
        "# normalize the input data\n",
        "scaler = StandardScaler()\n",
        "X_train = scaler.fit_transform(X_train)\n",
        "X_test = scaler.transform(X_test)\n",
        "\n",
        "# define the neural network architecture\n",
        "model = Sequential()\n",
        "model.add(Dense(128, activation='relu', input_dim=X_train.shape[1]))\n",
        "model.add(Dropout(0.7))\n",
        "model.add(Dense(64, activation='relu'))\n",
        "model.add(Dropout(0.7))\n",
        "model.add(Dense(1, activation='sigmoid'))\n",
        "\n",
        "\n",
        "# Compile model\n",
        "opt = Adam(learning_rate=0.001)\n",
        "model.compile(optimizer=opt, loss='binary_crossentropy', metrics=['accuracy'])\n",
        "\n",
        "# Train model\n",
        "model.fit(X_train, y_train, epochs=200, batch_size=32, validation_data=(X_test, y_test))"
      ]
    },
    {
      "cell_type": "markdown",
      "metadata": {
        "id": "NFtHDfTx0cFZ"
      },
      "source": [
        "a - Precision, Recall, F1-score\n",
        "\n",
        "These are three common metrics used for evaluating classification models that deal with imbalanced datasets."
      ]
    },
    {
      "cell_type": "code",
      "execution_count": 84,
      "metadata": {
        "colab": {
          "base_uri": "https://localhost:8080/"
        },
        "id": "BPinKlM30cFZ",
        "outputId": "0a9f6230-a398-4d13-a0e3-402d1b4e405c"
      },
      "outputs": [
        {
          "output_type": "stream",
          "name": "stdout",
          "text": [
            "              precision    recall  f1-score   support\n",
            "\n",
            "           0       0.73      0.75      0.74       176\n",
            "           1       0.77      0.76      0.77       199\n",
            "\n",
            "    accuracy                           0.75       375\n",
            "   macro avg       0.75      0.75      0.75       375\n",
            "weighted avg       0.76      0.75      0.75       375\n",
            "\n"
          ]
        }
      ],
      "source": [
        "from sklearn.metrics import classification_report\n",
        "\n",
        "# Calculate precision, recall, and f1-score on the testing data\n",
        "report = classification_report(y_test, y_pred)\n",
        "print(report)"
      ]
    },
    {
      "cell_type": "markdown",
      "metadata": {
        "id": "1wOHT3EF0cFa"
      },
      "source": [
        "b - Confusion Matrix\n",
        "\n",
        "This is a table that shows the number of true positives, false positives, true negatives, and false negatives. It can help you understand the types of errors your model is making."
      ]
    },
    {
      "cell_type": "code",
      "execution_count": 86,
      "metadata": {
        "colab": {
          "base_uri": "https://localhost:8080/"
        },
        "id": "wk23hX770cFb",
        "outputId": "ec0b31d2-ca33-4c7b-96cd-11c1eb913d8d"
      },
      "outputs": [
        {
          "output_type": "stream",
          "name": "stdout",
          "text": [
            "[[132  44]\n",
            " [ 48 151]]\n"
          ]
        }
      ],
      "source": [
        "from sklearn.metrics import confusion_matrix\n",
        "\n",
        "# Calculate confusion matrix on the testing data\n",
        "cm = confusion_matrix(y_test, y_pred)\n",
        "print(cm)"
      ]
    }
  ],
  "metadata": {
    "kernelspec": {
      "display_name": "Python 3",
      "language": "python",
      "name": "python3"
    },
    "language_info": {
      "codemirror_mode": {
        "name": "ipython",
        "version": 3
      },
      "file_extension": ".py",
      "mimetype": "text/x-python",
      "name": "python",
      "nbconvert_exporter": "python",
      "pygments_lexer": "ipython3",
      "version": "3.10.10"
    },
    "orig_nbformat": 4,
    "colab": {
      "provenance": []
    }
  },
  "nbformat": 4,
  "nbformat_minor": 0
}